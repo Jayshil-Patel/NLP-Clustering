{
 "cells": [
  {
   "cell_type": "code",
   "execution_count": 1,
   "metadata": {},
   "outputs": [
    {
     "name": "stderr",
     "output_type": "stream",
     "text": [
      "d:\\softwares\\Python\\lib\\site-packages\\numpy\\_distributor_init.py:30: UserWarning: loaded more than 1 DLL from .libs:\n",
      "d:\\softwares\\Python\\lib\\site-packages\\numpy\\.libs\\libopenblas.EL2C6PLE4ZYW3ECEVIV3OXXGRN2NRFM2.gfortran-win_amd64.dll\n",
      "d:\\softwares\\Python\\lib\\site-packages\\numpy\\.libs\\libopenblas.FB5AE2TYXYH2IJRDKGDGQ3XBKLKTF43H.gfortran-win_amd64.dll\n",
      "d:\\softwares\\Python\\lib\\site-packages\\numpy\\.libs\\libopenblas.WCDJNK7YVMPZQ2ME2ZZHJJRJ3JIKNDB7.gfortran-win_amd64.dll\n",
      "d:\\softwares\\Python\\lib\\site-packages\\numpy\\.libs\\libopenblas64__v0.3.21-gcc_10_3_0.dll\n",
      "  warnings.warn(\"loaded more than 1 DLL from .libs:\"\n"
     ]
    }
   ],
   "source": [
    "import nltk\n",
    "import random\n",
    "import numpy as np\n",
    "import pandas as pd"
   ]
  },
  {
   "cell_type": "code",
   "execution_count": 2,
   "metadata": {},
   "outputs": [
    {
     "name": "stderr",
     "output_type": "stream",
     "text": [
      "[nltk_data] Downloading package gutenberg to\n",
      "[nltk_data]     C:\\Users\\jaysh\\AppData\\Roaming\\nltk_data...\n",
      "[nltk_data]   Package gutenberg is already up-to-date!\n",
      "[nltk_data] Downloading package punkt to\n",
      "[nltk_data]     C:\\Users\\jaysh\\AppData\\Roaming\\nltk_data...\n",
      "[nltk_data]   Package punkt is already up-to-date!\n",
      "[nltk_data] Downloading package stopwords to\n",
      "[nltk_data]     C:\\Users\\jaysh\\AppData\\Roaming\\nltk_data...\n",
      "[nltk_data]   Package stopwords is already up-to-date!\n",
      "[nltk_data] Downloading package wordnet to\n",
      "[nltk_data]     C:\\Users\\jaysh\\AppData\\Roaming\\nltk_data...\n",
      "[nltk_data]   Package wordnet is already up-to-date!\n"
     ]
    },
    {
     "data": {
      "text/plain": [
       "True"
      ]
     },
     "execution_count": 2,
     "metadata": {},
     "output_type": "execute_result"
    }
   ],
   "source": [
    "from nltk.corpus import gutenberg\n",
    "from nltk.corpus import stopwords\n",
    "nltk.download('gutenberg')\n",
    "nltk.download('punkt')\n",
    "nltk.download('stopwords')\n",
    "nltk.download('wordnet')"
   ]
  },
  {
   "cell_type": "code",
   "execution_count": 3,
   "metadata": {},
   "outputs": [
    {
     "name": "stdout",
     "output_type": "stream",
     "text": [
      "['austen-emma.txt', 'austen-persuasion.txt', 'austen-sense.txt', 'bible-kjv.txt', 'blake-poems.txt', 'bryant-stories.txt', 'burgess-busterbrown.txt', 'carroll-alice.txt', 'chesterton-ball.txt', 'chesterton-brown.txt', 'chesterton-thursday.txt', 'edgeworth-parents.txt', 'melville-moby_dick.txt', 'milton-paradise.txt', 'shakespeare-caesar.txt', 'shakespeare-hamlet.txt', 'shakespeare-macbeth.txt', 'whitman-leaves.txt']\n"
     ]
    }
   ],
   "source": [
    "# get the book list\n",
    "bookList = gutenberg.fileids()\n",
    "print(bookList)"
   ]
  },
  {
   "cell_type": "code",
   "execution_count": 4,
   "metadata": {},
   "outputs": [],
   "source": [
    "books = np.array(bookList[3])\n",
    "# books = np.append(books, bookList[3])\n",
    "books = np.append(books, bookList[4])\n",
    "books = np.append(books, bookList[6])\n",
    "books = np.append(books, bookList[7])\n",
    "books = np.append(books, bookList[11])\n",
    "books = np.append(books, bookList[13])\n",
    "books = np.append(books, bookList[15])"
   ]
  },
  {
   "cell_type": "code",
   "execution_count": 5,
   "metadata": {},
   "outputs": [],
   "source": [
    "def sampling(number_samples, sample_size, book_name):\n",
    "    labeled_records = []\n",
    "    book = gutenberg.raw(book_name)\n",
    "    # print(book)\n",
    "    # tokenize the material of the book\n",
    "    raw_words = nltk.word_tokenize(book)\n",
    "    # print(raw_words)\n",
    "    # Prepare 200 documents for each book\n",
    "    headers = random.sample(range(0, len(raw_words)), number_samples)\n",
    "\n",
    "    for header in headers:\n",
    "        segment = raw_words[header:(header + sample_size + 1)]\n",
    "        labeled_records.append((segment, book_name))\n",
    "    return labeled_records"
   ]
  },
  {
   "cell_type": "code",
   "execution_count": 6,
   "metadata": {},
   "outputs": [],
   "source": [
    "from string import punctuation\n",
    "from nltk.corpus import gutenberg\n",
    "from nltk.corpus import stopwords\n",
    "from nltk.stem.wordnet import WordNetLemmatizer\n",
    "from sklearn.feature_extraction.text import TfidfVectorizer"
   ]
  },
  {
   "cell_type": "code",
   "execution_count": 7,
   "metadata": {},
   "outputs": [],
   "source": [
    "def data_cleaning(sample_words):\n",
    "    # customize the punctuation list by adding extra string\n",
    "    extra_string = \"'-- ``'' \"\n",
    "    update_punctuation = punctuation + extra_string\n",
    "    # customize the stopwords list by adding extra stopwords\n",
    "    sw = stopwords.words('english')\n",
    "    extra_stopwords = \"n't\", \"'s\", \"ar't\", \"'d\", \"'ll\", \"i'll\"\n",
    "    sw.extend(extra_stopwords)\n",
    "    # Remove punctuation\n",
    "    remove_punct_words = [w for w in sample_words if w not in update_punctuation]\n",
    "    # Change all letters to lowercase\n",
    "    lowercase_words = [w.lower() for w in remove_punct_words]\n",
    "    # Strip \"_\" at the beginning or end of a word\n",
    "    strip_words = [w.strip('_') for w in lowercase_words]\n",
    "    # Remember digits/numbers (keeps only words)\n",
    "    remove_number_words = [w for w in strip_words if w.isalpha()]\n",
    "    # Remove stop words\n",
    "    final_words = [w for w in remove_number_words if w not in sw]\n",
    "    return final_words"
   ]
  },
  {
   "cell_type": "code",
   "execution_count": 8,
   "metadata": {},
   "outputs": [],
   "source": [
    "if __name__ == \"__main__\":\n",
    "    try_number_samples = 200\n",
    "    try_sample_size = 150\n",
    "    final_list = []\n",
    "    for book_name in books:\n",
    "        # print (book_name)\n",
    "        labeled_list = sampling(try_number_samples, try_sample_size, book_name)\n",
    "        cleaned_labeled_list = []\n",
    "\n",
    "        for samples in labeled_list:\n",
    "            book_name = samples[1]\n",
    "\n",
    "            cleaned_seg = data_cleaning(samples[0])\n",
    "            cleaned_labeled_seg = (cleaned_seg, book_name)\n",
    "            # print(cleaned_labeled_seg)\n",
    "            cleaned_labeled_list.append(cleaned_labeled_seg)\n",
    "        # print(cleaned_labeled_list)\n",
    "        final_list = final_list + cleaned_labeled_list\n",
    "    # shuffle the list\n",
    "#     shuffle(final_list)\n",
    "    #print(final_list)\n",
    "\n",
    "    docs = []\n",
    "    tags = []\n",
    "\n",
    "    # word lemmatization\n",
    "    lem = WordNetLemmatizer()\n",
    "    for labeled_doc in final_list:\n",
    "        docs.append(lem.lemmatize(' '.join(labeled_doc[0])))\n",
    "        tags.append(labeled_doc[1])\n",
    "#     print(docs)\n",
    "    # import data to dictionary\n",
    "    dic = {'Text': docs, 'File_name': tags}\n",
    "    # apply pandas data frame\n",
    "    df = pd.DataFrame(dic)\n",
    "#     print(df)\n",
    "    # df.columns = ['Text', 'File_name']\n",
    "    df['book_id'] = df['File_name'].factorize()[0]\n",
    "    book_id_df = df[['File_name', 'book_id']].drop_duplicates().sort_values('book_id')\n",
    "    book_to_id = dict(book_id_df.values)\n",
    "    id_to_book = dict(book_id_df[['book_id', 'File_name']].values)\n",
    "    \n",
    "    # feature engineering： TF-IDF\n",
    "#     tfidf = TfidfVectorizer(sublinear_tf=True, encoding='latin-1', ngram_range=(1, 2), stop_words='english')\n",
    "    from sklearn.feature_extraction.text import CountVectorizer\n",
    "    vectorizer = CountVectorizer()\n",
    "    features = vectorizer.fit_transform(df['Text'])\n",
    "\n",
    "    from sklearn.decomposition import LatentDirichletAllocation\n",
    "    # Apply LDA to the document-term matrix\n",
    "    lda_model = LatentDirichletAllocation(n_components=10, max_iter=20, random_state=42)\n",
    "    features = lda_model.fit_transform(features)\n",
    "\n",
    "#     print(features)"
   ]
  },
  {
   "cell_type": "code",
   "execution_count": 10,
   "metadata": {},
   "outputs": [
    {
     "name": "stdout",
     "output_type": "stream",
     "text": [
      "1400\n",
      "[4 4 2 ... 5 3 3]\n"
     ]
    },
    {
     "data": {
      "text/plain": [
       "7"
      ]
     },
     "execution_count": 10,
     "metadata": {},
     "output_type": "execute_result"
    }
   ],
   "source": [
    "# Hierarchy clustering\n",
    "# Training the Hierarchical Clustering model on the dataset\n",
    "from sklearn.cluster import AgglomerativeClustering\n",
    "hc = AgglomerativeClustering(n_clusters = 7, affinity = 'euclidean', linkage = 'ward')\n",
    "y_hc = hc.fit_predict(features)\n",
    "\n",
    "print(len(y_hc))\n",
    "print(y_hc)\n",
    "hc.n_clusters_"
   ]
  },
  {
   "cell_type": "code",
   "execution_count": 12,
   "metadata": {},
   "outputs": [],
   "source": [
    "from sklearn.decomposition import PCA\n",
    "sklearn_pca = PCA(n_components = 2)\n",
    "Y_sklearn = sklearn_pca.fit_transform(features)"
   ]
  },
  {
   "cell_type": "code",
   "execution_count": 13,
   "metadata": {},
   "outputs": [
    {
     "data": {
      "image/png": "[encoded data removed]",
      "text/plain": [
       "<Figure size 432x288 with 1 Axes>"
      ]
     },
     "metadata": {
      "needs_background": "light"
     },
     "output_type": "display_data"
    }
   ],
   "source": [
    "# Visualising the clusters\n",
    "import matplotlib.pyplot as plt\n",
    "plt.scatter(Y_sklearn[y_hc == 0, 0], Y_sklearn[y_hc == 0, 1], s = 50, c = 'red', label = 'Cluster 1')\n",
    "plt.scatter(Y_sklearn[y_hc == 1, 0], Y_sklearn[y_hc == 1, 1], s = 50, c = 'blue', label = 'Cluster 2')\n",
    "plt.scatter(Y_sklearn[y_hc == 2, 0], Y_sklearn[y_hc == 2, 1], s = 50, c = 'green', label = 'Cluster 3')\n",
    "plt.scatter(Y_sklearn[y_hc == 3, 0], Y_sklearn[y_hc == 3, 1], s = 50, c = 'cyan', label = 'Cluster 4')\n",
    "plt.scatter(Y_sklearn[y_hc == 4, 0], Y_sklearn[y_hc == 4, 1], s = 50, c = 'magenta', label = 'Cluster 5')\n",
    "plt.scatter(Y_sklearn[y_hc == 5, 0], Y_sklearn[y_hc == 5, 1], s = 50, c = 'crimson', label = 'Cluster 6')\n",
    "plt.scatter(Y_sklearn[y_hc == 6, 0], Y_sklearn[y_hc == 6, 1], s = 50, c = 'burlywood', label = 'Cluster 7')\n",
    "plt.show()"
   ]
  },
  {
   "cell_type": "code",
   "execution_count": 14,
   "metadata": {},
   "outputs": [
    {
     "name": "stdout",
     "output_type": "stream",
     "text": [
      "0.46681693838724925\n"
     ]
    },
    {
     "data": {
      "text/plain": [
       "0.4081773199319896"
      ]
     },
     "execution_count": 14,
     "metadata": {},
     "output_type": "execute_result"
    }
   ],
   "source": [
    "from sklearn.metrics import homogeneity_score\n",
    "from sklearn.metrics import silhouette_score\n",
    "print(homogeneity_score(df.File_name, hc.labels_))\n",
    "silhouette_score(features, labels=hc.labels_)"
   ]
  },
  {
   "cell_type": "code",
   "execution_count": 15,
   "metadata": {},
   "outputs": [
    {
     "data": {
      "text/plain": [
       "-0.09083333333333332"
      ]
     },
     "execution_count": 15,
     "metadata": {},
     "output_type": "execute_result"
    }
   ],
   "source": [
    "from sklearn.metrics import cohen_kappa_score\n",
    "cohen_kappa_score(df.book_id, y_hc)"
   ]
  },
  {
   "cell_type": "code",
   "execution_count": null,
   "metadata": {},
   "outputs": [],
   "source": []
  }
 ],
 "metadata": {
  "kernelspec": {
   "display_name": "Python 3",
   "language": "python",
   "name": "python3"
  },
  "language_info": {
   "codemirror_mode": {
    "name": "ipython",
    "version": 3
   },
   "file_extension": ".py",
   "mimetype": "text/x-python",
   "name": "python",
   "nbconvert_exporter": "python",
   "pygments_lexer": "ipython3",
   "version": "3.9.5"
  },
  "orig_nbformat": 4,
  "vscode": {
   "interpreter": {
    "hash": "87d9b9d1e678527538d8142a74b02950316a4861c664997bcf14b93b840e5ec0"
   }
  }
 },
 "nbformat": 4,
 "nbformat_minor": 2
}

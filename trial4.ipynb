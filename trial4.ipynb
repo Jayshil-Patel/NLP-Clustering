{
 "cells": [
  {
   "cell_type": "code",
   "execution_count": 1,
   "metadata": {},
   "outputs": [
    {
     "name": "stderr",
     "output_type": "stream",
     "text": [
      "d:\\softwares\\Python\\lib\\site-packages\\scipy\\__init__.py:146: UserWarning: A NumPy version >=1.16.5 and <1.23.0 is required for this version of SciPy (detected version 1.24.2\n",
      "  warnings.warn(f\"A NumPy version >={np_minversion} and <{np_maxversion}\"\n",
      "[nltk_data] Downloading package punkt to\n",
      "[nltk_data]     C:\\Users\\jaysh\\AppData\\Roaming\\nltk_data...\n",
      "[nltk_data]   Unzipping tokenizers\\punkt.zip.\n"
     ]
    },
    {
     "name": "stdout",
     "output_type": "stream",
     "text": [
      "[{'words': ['mr.', 'bennet', ',', 'in', 'equal', 'silence', ',', 'was', 'enjoying', 'the', 'scene', '.'], 'label': 'P'}, {'words': ['he', 'came', ',', 'and', 'in', 'such', 'very', 'good', 'time', ',', 'that', 'the', 'ladies', 'were', 'none', 'of', 'them', 'dressed', '.'], 'label': 'P'}, {'words': ['it', 'is', 'not', 'quite', 'a', 'week', 'since', 'they', 'left', 'brighton', '.'], 'label': 'P'}, {'words': ['she', 'certainly', 'did', 'not', 'hate', 'him', '.'], 'label': 'P'}, {'words': ['mr.', 'wickham', 'had', 'received', 'his', 'commission', 'before', 'he', 'left', 'london', ',', 'and', 'he', 'was', 'to', 'join', 'his', 'regiment', 'at', 'the', 'end', 'of', 'a', 'fortnight', '.'], 'label': 'P'}]\n"
     ]
    }
   ],
   "source": [
    "import random\n",
    "import requests\n",
    "from bs4 import BeautifulSoup\n",
    "import nltk\n",
    "nltk.download('punkt')\n",
    "\n",
    "# Selecting Data\n",
    "books = [\n",
    "    {\n",
    "        \"title\": \"Pride and Prejudice\",\n",
    "        \"author\": \"Jane Austen\",\n",
    "        \"genre\": \"Romance\",\n",
    "        \"url\": \"https://www.gutenberg.org/files/1342/1342-h/1342-h.htm\"\n",
    "    },\n",
    "    {\n",
    "        \"title\": \"The Adventures of Sherlock Holmes\",\n",
    "        \"author\": \"Arthur Conan Doyle\",\n",
    "        \"genre\": \"Mystery\",\n",
    "        \"url\": \"https://www.gutenberg.org/files/1661/1661-h/1661-h.htm\"\n",
    "    },\n",
    "    {\n",
    "        \"title\": \"Wuthering Heights\",\n",
    "        \"author\": \"Emily Bronte\",\n",
    "        \"genre\": \"Gothic Fiction\",\n",
    "        \"url\": \"https://www.gutenberg.org/files/768/768-h/768-h.htm\"\n",
    "    },\n",
    "    {\n",
    "        \"title\": \"Alice's Adventures in Wonderland\",\n",
    "        \"author\": \"Lewis Carroll\",\n",
    "        \"genre\": \"Fantasy\",\n",
    "        \"url\": \"https://www.gutenberg.org/files/11/11-h/11-h.htm\"\n",
    "    },\n",
    "    {\n",
    "        \"title\": \"Dracula\",\n",
    "        \"author\": \"Bram Stoker\",\n",
    "        \"genre\": \"Horror\",\n",
    "        \"url\": \"https://www.gutenberg.org/files/345/345-h/345-h.htm\"\n",
    "    }\n",
    "]\n",
    "\n",
    "# Sampling Data\n",
    "num_docs = 200\n",
    "doc_size = 150\n",
    "\n",
    "data = []\n",
    "\n",
    "for book in books:\n",
    "    # Retrieve the webpage\n",
    "    response = requests.get(book[\"url\"])\n",
    "\n",
    "    # Extract the text from the HTML\n",
    "    soup = BeautifulSoup(response.text, \"html.parser\")\n",
    "    text = soup.get_text()\n",
    "\n",
    "    # Split the text into sentences\n",
    "    sentences = nltk.sent_tokenize(text)\n",
    "\n",
    "    # Sample the sentences randomly\n",
    "    selected_sentences = random.sample(sentences, num_docs)\n",
    "\n",
    "    # Preprocessing Data\n",
    "    for sentence in selected_sentences:\n",
    "        # Tokenize the sentence\n",
    "        words = nltk.word_tokenize(sentence)\n",
    "\n",
    "        # Keep only the first doc_size words\n",
    "        if len(words) > doc_size:\n",
    "            words = words[:doc_size]\n",
    "\n",
    "        # Convert the words to lowercase\n",
    "        words = [word.lower() for word in words]\n",
    "\n",
    "        # Add the words and book label to the data list\n",
    "        data.append({\n",
    "            \"words\": words,\n",
    "            \"label\": book[\"title\"][0]\n",
    "        })\n",
    "\n",
    "print(data[:5])"
   ]
  },
  {
   "cell_type": "code",
   "execution_count": 5,
   "metadata": {},
   "outputs": [
    {
     "data": {
      "text/plain": [
       "{'words': ['mr.',\n",
       "  'bennet',\n",
       "  ',',\n",
       "  'in',\n",
       "  'equal',\n",
       "  'silence',\n",
       "  ',',\n",
       "  'was',\n",
       "  'enjoying',\n",
       "  'the',\n",
       "  'scene',\n",
       "  '.'],\n",
       " 'label': 'P'}"
      ]
     },
     "execution_count": 5,
     "metadata": {},
     "output_type": "execute_result"
    }
   ],
   "source": [
    "data[0]"
   ]
  },
  {
   "cell_type": "code",
   "execution_count": null,
   "metadata": {},
   "outputs": [],
   "source": []
  }
 ],
 "metadata": {
  "kernelspec": {
   "display_name": "Python 3",
   "language": "python",
   "name": "python3"
  },
  "language_info": {
   "codemirror_mode": {
    "name": "ipython",
    "version": 3
   },
   "file_extension": ".py",
   "mimetype": "text/x-python",
   "name": "python",
   "nbconvert_exporter": "python",
   "pygments_lexer": "ipython3",
   "version": "3.9.5"
  },
  "orig_nbformat": 4,
  "vscode": {
   "interpreter": {
    "hash": "87d9b9d1e678527538d8142a74b02950316a4861c664997bcf14b93b840e5ec0"
   }
  }
 },
 "nbformat": 4,
 "nbformat_minor": 2
}

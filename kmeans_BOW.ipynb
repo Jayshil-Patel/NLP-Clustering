{
 "cells": [
  {
   "cell_type": "code",
   "execution_count": 9,
   "metadata": {},
   "outputs": [],
   "source": [
    "import nltk\n",
    "import random\n",
    "import numpy as np\n",
    "import pandas as pd"
   ]
  },
  {
   "cell_type": "code",
   "execution_count": 10,
   "metadata": {},
   "outputs": [
    {
     "name": "stderr",
     "output_type": "stream",
     "text": [
      "[nltk_data] Downloading package gutenberg to\n",
      "[nltk_data]     C:\\Users\\jaysh\\AppData\\Roaming\\nltk_data...\n",
      "[nltk_data]   Package gutenberg is already up-to-date!\n",
      "[nltk_data] Downloading package punkt to\n",
      "[nltk_data]     C:\\Users\\jaysh\\AppData\\Roaming\\nltk_data...\n",
      "[nltk_data]   Package punkt is already up-to-date!\n",
      "[nltk_data] Downloading package stopwords to\n",
      "[nltk_data]     C:\\Users\\jaysh\\AppData\\Roaming\\nltk_data...\n",
      "[nltk_data]   Package stopwords is already up-to-date!\n",
      "[nltk_data] Downloading package wordnet to\n",
      "[nltk_data]     C:\\Users\\jaysh\\AppData\\Roaming\\nltk_data...\n",
      "[nltk_data]   Package wordnet is already up-to-date!\n"
     ]
    },
    {
     "data": {
      "text/plain": [
       "True"
      ]
     },
     "execution_count": 10,
     "metadata": {},
     "output_type": "execute_result"
    }
   ],
   "source": [
    "from nltk.corpus import gutenberg\n",
    "from nltk.corpus import stopwords\n",
    "nltk.download('gutenberg')\n",
    "nltk.download('punkt')\n",
    "nltk.download('stopwords')\n",
    "nltk.download('wordnet')"
   ]
  },
  {
   "cell_type": "code",
   "execution_count": 11,
   "metadata": {},
   "outputs": [
    {
     "name": "stdout",
     "output_type": "stream",
     "text": [
      "['austen-emma.txt', 'austen-persuasion.txt', 'austen-sense.txt', 'bible-kjv.txt', 'blake-poems.txt', 'bryant-stories.txt', 'burgess-busterbrown.txt', 'carroll-alice.txt', 'chesterton-ball.txt', 'chesterton-brown.txt', 'chesterton-thursday.txt', 'edgeworth-parents.txt', 'melville-moby_dick.txt', 'milton-paradise.txt', 'shakespeare-caesar.txt', 'shakespeare-hamlet.txt', 'shakespeare-macbeth.txt', 'whitman-leaves.txt']\n"
     ]
    }
   ],
   "source": [
    "# get the book list\n",
    "bookList = gutenberg.fileids()\n",
    "print(bookList)"
   ]
  },
  {
   "cell_type": "code",
   "execution_count": 12,
   "metadata": {},
   "outputs": [],
   "source": [
    "books = np.array(bookList[3])\n",
    "# books = np.append(books, bookList[3])\n",
    "books = np.append(books, bookList[4])\n",
    "books = np.append(books, bookList[6])\n",
    "books = np.append(books, bookList[7])\n",
    "books = np.append(books, bookList[11])\n",
    "books = np.append(books, bookList[13])\n",
    "books = np.append(books, bookList[15])"
   ]
  },
  {
   "cell_type": "code",
   "execution_count": 13,
   "metadata": {},
   "outputs": [],
   "source": [
    "def sampling(number_samples, sample_size, book_name):\n",
    "    labeled_records = []\n",
    "    book = gutenberg.raw(book_name)\n",
    "    # print(book)\n",
    "    # tokenize the material of the book\n",
    "    raw_words = nltk.word_tokenize(book)\n",
    "    # print(raw_words)\n",
    "    # Prepare 200 documents for each book\n",
    "    headers = random.sample(range(0, len(raw_words)), number_samples)\n",
    "\n",
    "    for header in headers:\n",
    "        segment = raw_words[header:(header + sample_size + 1)]\n",
    "        labeled_records.append((segment, book_name))\n",
    "    return labeled_records"
   ]
  },
  {
   "cell_type": "code",
   "execution_count": 14,
   "metadata": {},
   "outputs": [],
   "source": [
    "from string import punctuation\n",
    "from nltk.corpus import gutenberg\n",
    "from nltk.corpus import stopwords\n",
    "from nltk.stem.wordnet import WordNetLemmatizer\n",
    "from sklearn.feature_extraction.text import TfidfVectorizer"
   ]
  },
  {
   "cell_type": "code",
   "execution_count": 15,
   "metadata": {},
   "outputs": [],
   "source": [
    "def data_cleaning(sample_words):\n",
    "    # customize the punctuation list by adding extra string\n",
    "    extra_string = \"'-- ``'' \"\n",
    "    update_punctuation = punctuation + extra_string\n",
    "    # customize the stopwords list by adding extra stopwords\n",
    "    sw = stopwords.words('english')\n",
    "    extra_stopwords = \"n't\", \"'s\", \"ar't\", \"'d\", \"'ll\", \"i'll\"\n",
    "    sw.extend(extra_stopwords)\n",
    "    # Remove punctuation\n",
    "    remove_punct_words = [w for w in sample_words if w not in update_punctuation]\n",
    "    # Change all letters to lowercase\n",
    "    lowercase_words = [w.lower() for w in remove_punct_words]\n",
    "    # Strip \"_\" at the beginning or end of a word\n",
    "    strip_words = [w.strip('_') for w in lowercase_words]\n",
    "    # Remember digits/numbers (keeps only words)\n",
    "    remove_number_words = [w for w in strip_words if w.isalpha()]\n",
    "    # Remove stop words\n",
    "    final_words = [w for w in remove_number_words if w not in sw]\n",
    "    return final_words"
   ]
  },
  {
   "cell_type": "code",
   "execution_count": 16,
   "metadata": {},
   "outputs": [],
   "source": [
    "if __name__ == \"__main__\":\n",
    "    try_number_samples = 200\n",
    "    try_sample_size = 150\n",
    "    final_list = []\n",
    "    for book_name in books:\n",
    "        # print (book_name)\n",
    "        labeled_list = sampling(try_number_samples, try_sample_size, book_name)\n",
    "        cleaned_labeled_list = []\n",
    "\n",
    "        for samples in labeled_list:\n",
    "            book_name = samples[1]\n",
    "\n",
    "            cleaned_seg = data_cleaning(samples[0])\n",
    "            cleaned_labeled_seg = (cleaned_seg, book_name)\n",
    "            # print(cleaned_labeled_seg)\n",
    "            cleaned_labeled_list.append(cleaned_labeled_seg)\n",
    "        # print(cleaned_labeled_list)\n",
    "        final_list = final_list + cleaned_labeled_list\n",
    "    # shuffle the list\n",
    "#     shuffle(final_list)\n",
    "    #print(final_list)\n",
    "\n",
    "    docs = []\n",
    "    tags = []\n",
    "\n",
    "    # word lemmatization\n",
    "    lem = WordNetLemmatizer()\n",
    "    for labeled_doc in final_list:\n",
    "        docs.append(lem.lemmatize(' '.join(labeled_doc[0])))\n",
    "        tags.append(labeled_doc[1])\n",
    "#     print(docs)\n",
    "    # import data to dictionary\n",
    "    dic = {'Text': docs, 'File_name': tags}\n",
    "    # apply pandas data frame\n",
    "    df = pd.DataFrame(dic)\n",
    "#     print(df)\n",
    "    # df.columns = ['Text', 'File_name']\n",
    "    df['book_id'] = df['File_name'].factorize()[0]\n",
    "    book_id_df = df[['File_name', 'book_id']].drop_duplicates().sort_values('book_id')\n",
    "    book_to_id = dict(book_id_df.values)\n",
    "    id_to_book = dict(book_id_df[['book_id', 'File_name']].values)\n",
    "    \n",
    "    # feature engineering： TF-IDF\n",
    "#     tfidf = TfidfVectorizer(sublinear_tf=True, encoding='latin-1', ngram_range=(1, 2), stop_words='english')\n",
    "    # tfidf = TfidfVectorizer(stop_words='english')\n",
    "    # features = tfidf.fit_transform(df.Text)\n",
    "    from sklearn.feature_extraction.text import CountVectorizer\n",
    "    vectorizer = CountVectorizer()\n",
    "    features = vectorizer.fit_transform(df['Text'])\n",
    "#     print(features)"
   ]
  },
  {
   "cell_type": "code",
   "execution_count": 17,
   "metadata": {},
   "outputs": [],
   "source": [
    "# dimension reducing\n",
    "from sklearn.decomposition import PCA\n",
    "from sklearn.mixture import GaussianMixture\n",
    "sklearn_pca = PCA(n_components = 2)\n",
    "Y_sklearn = sklearn_pca.fit_transform(features.toarray())"
   ]
  },
  {
   "cell_type": "code",
   "execution_count": 18,
   "metadata": {},
   "outputs": [
    {
     "data": {
      "image/png": "[encoded data removed]",
      "text/plain": [
       "<Figure size 432x288 with 1 Axes>"
      ]
     },
     "metadata": {
      "needs_background": "light"
     },
     "output_type": "display_data"
    }
   ],
   "source": [
    "# K-Means Clustering\n",
    "from sklearn.cluster import KMeans\n",
    "import matplotlib.pyplot as plt\n",
    "# Using the elbow method to find the optimal number of clusters (7)\n",
    "wcss = []\n",
    "for i in range(1, 11):\n",
    "    kmeans = KMeans(n_clusters = i, init = 'k-means++', random_state = 42)\n",
    "    kmeans.fit(Y_sklearn)\n",
    "    wcss.append(kmeans.inertia_)\n",
    "plt.plot(range(1, 11), wcss)\n",
    "plt.title('The Elbow Method')\n",
    "plt.xlabel('Number of clusters')\n",
    "plt.ylabel('WCSS')\n",
    "plt.show()"
   ]
  },
  {
   "cell_type": "code",
   "execution_count": 19,
   "metadata": {},
   "outputs": [
    {
     "data": {
      "text/html": [
       "<style>#sk-container-id-1 {color: black;background-color: white;}#sk-container-id-1 pre{padding: 0;}#sk-container-id-1 div.sk-toggleable {background-color: white;}#sk-container-id-1 label.sk-toggleable__label {cursor: pointer;display: block;width: 100%;margin-bottom: 0;padding: 0.3em;box-sizing: border-box;text-align: center;}#sk-container-id-1 label.sk-toggleable__label-arrow:before {content: \"▸\";float: left;margin-right: 0.25em;color: #696969;}#sk-container-id-1 label.sk-toggleable__label-arrow:hover:before {color: black;}#sk-container-id-1 div.sk-estimator:hover label.sk-toggleable__label-arrow:before {color: black;}#sk-container-id-1 div.sk-toggleable__content {max-height: 0;max-width: 0;overflow: hidden;text-align: left;background-color: #f0f8ff;}#sk-container-id-1 div.sk-toggleable__content pre {margin: 0.2em;color: black;border-radius: 0.25em;background-color: #f0f8ff;}#sk-container-id-1 input.sk-toggleable__control:checked~div.sk-toggleable__content {max-height: 200px;max-width: 100%;overflow: auto;}#sk-container-id-1 input.sk-toggleable__control:checked~label.sk-toggleable__label-arrow:before {content: \"▾\";}#sk-container-id-1 div.sk-estimator input.sk-toggleable__control:checked~label.sk-toggleable__label {background-color: #d4ebff;}#sk-container-id-1 div.sk-label input.sk-toggleable__control:checked~label.sk-toggleable__label {background-color: #d4ebff;}#sk-container-id-1 input.sk-hidden--visually {border: 0;clip: rect(1px 1px 1px 1px);clip: rect(1px, 1px, 1px, 1px);height: 1px;margin: -1px;overflow: hidden;padding: 0;position: absolute;width: 1px;}#sk-container-id-1 div.sk-estimator {font-family: monospace;background-color: #f0f8ff;border: 1px dotted black;border-radius: 0.25em;box-sizing: border-box;margin-bottom: 0.5em;}#sk-container-id-1 div.sk-estimator:hover {background-color: #d4ebff;}#sk-container-id-1 div.sk-parallel-item::after {content: \"\";width: 100%;border-bottom: 1px solid gray;flex-grow: 1;}#sk-container-id-1 div.sk-label:hover label.sk-toggleable__label {background-color: #d4ebff;}#sk-container-id-1 div.sk-serial::before {content: \"\";position: absolute;border-left: 1px solid gray;box-sizing: border-box;top: 0;bottom: 0;left: 50%;z-index: 0;}#sk-container-id-1 div.sk-serial {display: flex;flex-direction: column;align-items: center;background-color: white;padding-right: 0.2em;padding-left: 0.2em;position: relative;}#sk-container-id-1 div.sk-item {position: relative;z-index: 1;}#sk-container-id-1 div.sk-parallel {display: flex;align-items: stretch;justify-content: center;background-color: white;position: relative;}#sk-container-id-1 div.sk-item::before, #sk-container-id-1 div.sk-parallel-item::before {content: \"\";position: absolute;border-left: 1px solid gray;box-sizing: border-box;top: 0;bottom: 0;left: 50%;z-index: -1;}#sk-container-id-1 div.sk-parallel-item {display: flex;flex-direction: column;z-index: 1;position: relative;background-color: white;}#sk-container-id-1 div.sk-parallel-item:first-child::after {align-self: flex-end;width: 50%;}#sk-container-id-1 div.sk-parallel-item:last-child::after {align-self: flex-start;width: 50%;}#sk-container-id-1 div.sk-parallel-item:only-child::after {width: 0;}#sk-container-id-1 div.sk-dashed-wrapped {border: 1px dashed gray;margin: 0 0.4em 0.5em 0.4em;box-sizing: border-box;padding-bottom: 0.4em;background-color: white;}#sk-container-id-1 div.sk-label label {font-family: monospace;font-weight: bold;display: inline-block;line-height: 1.2em;}#sk-container-id-1 div.sk-label-container {text-align: center;}#sk-container-id-1 div.sk-container {/* jupyter's `normalize.less` sets `[hidden] { display: none; }` but bootstrap.min.css set `[hidden] { display: none !important; }` so we also need the `!important` here to be able to override the default hidden behavior on the sphinx rendered scikit-learn.org. See: https://github.com/scikit-learn/scikit-learn/issues/21755 */display: inline-block !important;position: relative;}#sk-container-id-1 div.sk-text-repr-fallback {display: none;}</style><div id=\"sk-container-id-1\" class=\"sk-top-container\"><div class=\"sk-text-repr-fallback\"><pre>KMeans(max_iter=100, n_clusters=4, n_init=1)</pre><b>In a Jupyter environment, please rerun this cell to show the HTML representation or trust the notebook. <br />On GitHub, the HTML representation is unable to render, please try loading this page with nbviewer.org.</b></div><div class=\"sk-container\" hidden><div class=\"sk-item\"><div class=\"sk-estimator sk-toggleable\"><input class=\"sk-toggleable__control sk-hidden--visually\" id=\"sk-estimator-id-1\" type=\"checkbox\" checked><label for=\"sk-estimator-id-1\" class=\"sk-toggleable__label sk-toggleable__label-arrow\">KMeans</label><div class=\"sk-toggleable__content\"><pre>KMeans(max_iter=100, n_clusters=4, n_init=1)</pre></div></div></div></div></div>"
      ],
      "text/plain": [
       "KMeans(max_iter=100, n_clusters=4, n_init=1)"
      ]
     },
     "execution_count": 19,
     "metadata": {},
     "output_type": "execute_result"
    }
   ],
   "source": [
    "#KMeans clustering\n",
    "true_k = 4\n",
    "model = KMeans(n_clusters=true_k, init='k-means++', max_iter=100, n_init=1)\n",
    "model.fit(features)"
   ]
  },
  {
   "cell_type": "code",
   "execution_count": 20,
   "metadata": {},
   "outputs": [
    {
     "name": "stdout",
     "output_type": "stream",
     "text": [
      "[0 0 0 ... 0 0 0]\n"
     ]
    }
   ],
   "source": [
    "kmeans_predict = model.predict(features)\n",
    "print (kmeans_predict)"
   ]
  },
  {
   "cell_type": "code",
   "execution_count": 21,
   "metadata": {},
   "outputs": [
    {
     "data": {
      "text/plain": [
       "<matplotlib.collections.PathCollection at 0x27c19f58a00>"
      ]
     },
     "execution_count": 21,
     "metadata": {},
     "output_type": "execute_result"
    },
    {
     "data": {
      "image/png": "[encoded data removed]",
      "text/plain": [
       "<Figure size 432x288 with 1 Axes>"
      ]
     },
     "metadata": {
      "needs_background": "light"
     },
     "output_type": "display_data"
    }
   ],
   "source": [
    "# visualization of KMeans\n",
    "reduced_cluster_centers = sklearn_pca.transform(model.cluster_centers_)\n",
    "plt.scatter(Y_sklearn[:,0], Y_sklearn[:,1], c=model.predict(features))\n",
    "plt.scatter(reduced_cluster_centers[:, 0], reduced_cluster_centers[:,1], marker='x', s=150, c='b')"
   ]
  },
  {
   "cell_type": "code",
   "execution_count": 22,
   "metadata": {},
   "outputs": [],
   "source": [
    "# count the ratio of cluster id in each cluster\n",
    "# return stat - display the predicted clusters' id distribution\n",
    "# return new_id - the clusters' id array following the original doc order\n",
    "def statistics(predict):\n",
    "    stat = []\n",
    "    new_id = []\n",
    "    for i in range(0, 1400, 200):\n",
    "        ratio = []\n",
    "        most_possible_id = 0\n",
    "        max_count = 0\n",
    "        for j in range(7):\n",
    "            # count = predict[i:i + 200].count(j)\n",
    "            counter = collections.Counter(predict[i:i + 200])\n",
    "            count = counter[j]\n",
    "            ratio.append(count / 200)\n",
    "            if count > max_count:\n",
    "                max_count = count\n",
    "                most_possible_id = j\n",
    "        stat.append(ratio)\n",
    "        new_id.append(most_possible_id)\n",
    "    return stat, new_id"
   ]
  },
  {
   "cell_type": "code",
   "execution_count": 23,
   "metadata": {},
   "outputs": [],
   "source": [
    "# obtain cluster id from predict result\n",
    "import collections\n",
    "stat, new_id = statistics(kmeans_predict)"
   ]
  },
  {
   "cell_type": "code",
   "execution_count": 24,
   "metadata": {},
   "outputs": [
    {
     "name": "stdout",
     "output_type": "stream",
     "text": [
      "                             0      1      2      3    4    5    6\n",
      "bible-kjv.txt            0.945  0.055  0.000  0.000  0.0  0.0  0.0\n",
      "blake-poems.txt          0.115  0.000  0.885  0.000  0.0  0.0  0.0\n",
      "burgess-busterbrown.txt  0.055  0.000  0.000  0.945  0.0  0.0  0.0\n",
      "carroll-alice.txt        0.110  0.890  0.000  0.000  0.0  0.0  0.0\n",
      "edgeworth-parents.txt    0.680  0.315  0.005  0.000  0.0  0.0  0.0\n",
      "milton-paradise.txt      0.995  0.000  0.005  0.000  0.0  0.0  0.0\n",
      "shakespeare-hamlet.txt   1.000  0.000  0.000  0.000  0.0  0.0  0.0\n"
     ]
    },
    {
     "data": {
      "text/plain": [
       "[0, 2, 3, 1, 0, 0, 0]"
      ]
     },
     "execution_count": 24,
     "metadata": {},
     "output_type": "execute_result"
    }
   ],
   "source": [
    "predict_df = pd.DataFrame(stat, index = books, columns=['0', '1', '2', '3', '4', '5', '6'])\n",
    "print(predict_df)\n",
    "new_id"
   ]
  },
  {
   "cell_type": "code",
   "execution_count": 25,
   "metadata": {},
   "outputs": [
    {
     "data": {
      "text/plain": [
       "0       0\n",
       "1       0\n",
       "2       0\n",
       "3       0\n",
       "4       0\n",
       "       ..\n",
       "1395    0\n",
       "1396    0\n",
       "1397    0\n",
       "1398    0\n",
       "1399    0\n",
       "Name: cluster_id, Length: 1400, dtype: int8"
      ]
     },
     "execution_count": 25,
     "metadata": {},
     "output_type": "execute_result"
    }
   ],
   "source": [
    "# create new book id\n",
    "ids = []\n",
    "for k in new_id:\n",
    "    arr = np.ones(200)\n",
    "    ids.append(arr * k)\n",
    "book_cluster_ids = np.array(ids,dtype='int8').flatten()\n",
    "# assign new book id to the df\n",
    "df['cluster_id'] = book_cluster_ids\n",
    "df.cluster_id\n"
   ]
  },
  {
   "cell_type": "code",
   "execution_count": 26,
   "metadata": {},
   "outputs": [
    {
     "name": "stdout",
     "output_type": "stream",
     "text": [
      "0.8475247524752475\n"
     ]
    }
   ],
   "source": [
    "#evaluation of KMeans\n",
    "from sklearn.metrics import cohen_kappa_score\n",
    "print(cohen_kappa_score(df.cluster_id, kmeans_predict))"
   ]
  },
  {
   "cell_type": "code",
   "execution_count": 27,
   "metadata": {},
   "outputs": [
    {
     "name": "stdout",
     "output_type": "stream",
     "text": [
      "0.46703654170763925\n"
     ]
    },
    {
     "data": {
      "text/plain": [
       "0.0031840497740555623"
      ]
     },
     "execution_count": 27,
     "metadata": {},
     "output_type": "execute_result"
    }
   ],
   "source": [
    "from sklearn.metrics import homogeneity_score\n",
    "from sklearn.metrics import silhouette_score\n",
    "print(homogeneity_score(df.book_id, kmeans_predict))\n",
    "silhouette_score(features, labels=kmeans_predict)"
   ]
  },
  {
   "cell_type": "code",
   "execution_count": 28,
   "metadata": {},
   "outputs": [
    {
     "data": {
      "image/png": "[encoded data removed]",
      "text/plain": [
       "<Figure size 432x288 with 1 Axes>"
      ]
     },
     "metadata": {
      "needs_background": "light"
     },
     "output_type": "display_data"
    }
   ],
   "source": [
    "# Using the dendrogram to find the optimal number of clusters (7)\n",
    "import scipy.cluster.hierarchy as sch\n",
    "dendrogram = sch.dendrogram(sch.linkage(features.toarray(), method = 'ward'))\n",
    "plt.title('Dendrogram')\n",
    "plt.show()"
   ]
  }
 ],
 "metadata": {
  "kernelspec": {
   "display_name": "Python 3",
   "language": "python",
   "name": "python3"
  },
  "language_info": {
   "codemirror_mode": {
    "name": "ipython",
    "version": 3
   },
   "file_extension": ".py",
   "mimetype": "text/x-python",
   "name": "python",
   "nbconvert_exporter": "python",
   "pygments_lexer": "ipython3",
   "version": "3.9.5"
  },
  "orig_nbformat": 4,
  "vscode": {
   "interpreter": {
    "hash": "87d9b9d1e678527538d8142a74b02950316a4861c664997bcf14b93b840e5ec0"
   }
  }
 },
 "nbformat": 4,
 "nbformat_minor": 2
}

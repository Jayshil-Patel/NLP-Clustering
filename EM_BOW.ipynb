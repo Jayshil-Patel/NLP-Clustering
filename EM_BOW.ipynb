{
 "cells": [
  {
   "cell_type": "code",
   "execution_count": 35,
   "metadata": {},
   "outputs": [],
   "source": [
    "import nltk\n",
    "import random\n",
    "import numpy as np\n",
    "import pandas as pd"
   ]
  },
  {
   "cell_type": "code",
   "execution_count": 36,
   "metadata": {},
   "outputs": [
    {
     "name": "stderr",
     "output_type": "stream",
     "text": [
      "[nltk_data] Downloading package gutenberg to\n",
      "[nltk_data]     C:\\Users\\jaysh\\AppData\\Roaming\\nltk_data...\n",
      "[nltk_data]   Package gutenberg is already up-to-date!\n",
      "[nltk_data] Downloading package punkt to\n",
      "[nltk_data]     C:\\Users\\jaysh\\AppData\\Roaming\\nltk_data...\n",
      "[nltk_data]   Package punkt is already up-to-date!\n",
      "[nltk_data] Downloading package stopwords to\n",
      "[nltk_data]     C:\\Users\\jaysh\\AppData\\Roaming\\nltk_data...\n",
      "[nltk_data]   Package stopwords is already up-to-date!\n",
      "[nltk_data] Downloading package wordnet to\n",
      "[nltk_data]     C:\\Users\\jaysh\\AppData\\Roaming\\nltk_data...\n",
      "[nltk_data]   Package wordnet is already up-to-date!\n"
     ]
    },
    {
     "data": {
      "text/plain": [
       "True"
      ]
     },
     "execution_count": 36,
     "metadata": {},
     "output_type": "execute_result"
    }
   ],
   "source": [
    "from nltk.corpus import gutenberg\n",
    "from nltk.corpus import stopwords\n",
    "nltk.download('gutenberg')\n",
    "nltk.download('punkt')\n",
    "nltk.download('stopwords')\n",
    "nltk.download('wordnet')"
   ]
  },
  {
   "cell_type": "code",
   "execution_count": 37,
   "metadata": {},
   "outputs": [
    {
     "name": "stdout",
     "output_type": "stream",
     "text": [
      "['austen-emma.txt', 'austen-persuasion.txt', 'austen-sense.txt', 'bible-kjv.txt', 'blake-poems.txt', 'bryant-stories.txt', 'burgess-busterbrown.txt', 'carroll-alice.txt', 'chesterton-ball.txt', 'chesterton-brown.txt', 'chesterton-thursday.txt', 'edgeworth-parents.txt', 'melville-moby_dick.txt', 'milton-paradise.txt', 'shakespeare-caesar.txt', 'shakespeare-hamlet.txt', 'shakespeare-macbeth.txt', 'whitman-leaves.txt']\n"
     ]
    }
   ],
   "source": [
    "# get the book list\n",
    "bookList = gutenberg.fileids()\n",
    "print(bookList)"
   ]
  },
  {
   "cell_type": "code",
   "execution_count": 38,
   "metadata": {},
   "outputs": [],
   "source": [
    "books = np.array(bookList[3])\n",
    "# books = np.append(books, bookList[3])\n",
    "books = np.append(books, bookList[4])\n",
    "books = np.append(books, bookList[6])\n",
    "books = np.append(books, bookList[7])\n",
    "books = np.append(books, bookList[11])\n",
    "books = np.append(books, bookList[13])\n",
    "books = np.append(books, bookList[15])"
   ]
  },
  {
   "cell_type": "code",
   "execution_count": 39,
   "metadata": {},
   "outputs": [],
   "source": [
    "def sampling(number_samples, sample_size, book_name):\n",
    "    labeled_records = []\n",
    "    book = gutenberg.raw(book_name)\n",
    "    # print(book)\n",
    "    # tokenize the material of the book\n",
    "    raw_words = nltk.word_tokenize(book)\n",
    "    # print(raw_words)\n",
    "    # Prepare 200 documents for each book\n",
    "    headers = random.sample(range(0, len(raw_words)), number_samples)\n",
    "\n",
    "    for header in headers:\n",
    "        segment = raw_words[header:(header + sample_size + 1)]\n",
    "        labeled_records.append((segment, book_name))\n",
    "    return labeled_records"
   ]
  },
  {
   "cell_type": "code",
   "execution_count": 40,
   "metadata": {},
   "outputs": [],
   "source": [
    "from string import punctuation\n",
    "from nltk.corpus import gutenberg\n",
    "from nltk.corpus import stopwords\n",
    "from nltk.stem.wordnet import WordNetLemmatizer\n",
    "from sklearn.feature_extraction.text import TfidfVectorizer"
   ]
  },
  {
   "cell_type": "code",
   "execution_count": 41,
   "metadata": {},
   "outputs": [],
   "source": [
    "def data_cleaning(sample_words):\n",
    "    # customize the punctuation list by adding extra string\n",
    "    extra_string = \"'-- ``'' \"\n",
    "    update_punctuation = punctuation + extra_string\n",
    "    # customize the stopwords list by adding extra stopwords\n",
    "    sw = stopwords.words('english')\n",
    "    extra_stopwords = \"n't\", \"'s\", \"ar't\", \"'d\", \"'ll\", \"i'll\"\n",
    "    sw.extend(extra_stopwords)\n",
    "    # Remove punctuation\n",
    "    remove_punct_words = [w for w in sample_words if w not in update_punctuation]\n",
    "    # Change all letters to lowercase\n",
    "    lowercase_words = [w.lower() for w in remove_punct_words]\n",
    "    # Strip \"_\" at the beginning or end of a word\n",
    "    strip_words = [w.strip('_') for w in lowercase_words]\n",
    "    # Remember digits/numbers (keeps only words)\n",
    "    remove_number_words = [w for w in strip_words if w.isalpha()]\n",
    "    # Remove stop words\n",
    "    final_words = [w for w in remove_number_words if w not in sw]\n",
    "    return final_words"
   ]
  },
  {
   "cell_type": "code",
   "execution_count": 42,
   "metadata": {},
   "outputs": [],
   "source": [
    "if __name__ == \"__main__\":\n",
    "    try_number_samples = 200\n",
    "    try_sample_size = 150\n",
    "    final_list = []\n",
    "    for book_name in books:\n",
    "        # print (book_name)\n",
    "        labeled_list = sampling(try_number_samples, try_sample_size, book_name)\n",
    "        cleaned_labeled_list = []\n",
    "\n",
    "        for samples in labeled_list:\n",
    "            book_name = samples[1]\n",
    "\n",
    "            cleaned_seg = data_cleaning(samples[0])\n",
    "            cleaned_labeled_seg = (cleaned_seg, book_name)\n",
    "            # print(cleaned_labeled_seg)\n",
    "            cleaned_labeled_list.append(cleaned_labeled_seg)\n",
    "        # print(cleaned_labeled_list)\n",
    "        final_list = final_list + cleaned_labeled_list\n",
    "    # shuffle the list\n",
    "#     shuffle(final_list)\n",
    "    #print(final_list)\n",
    "\n",
    "    docs = []\n",
    "    tags = []\n",
    "\n",
    "    # word lemmatization\n",
    "    lem = WordNetLemmatizer()\n",
    "    for labeled_doc in final_list:\n",
    "        docs.append(lem.lemmatize(' '.join(labeled_doc[0])))\n",
    "        tags.append(labeled_doc[1])\n",
    "#     print(docs)\n",
    "    # import data to dictionary\n",
    "    dic = {'Text': docs, 'File_name': tags}\n",
    "    # apply pandas data frame\n",
    "    df = pd.DataFrame(dic)\n",
    "#     print(df)\n",
    "    # df.columns = ['Text', 'File_name']\n",
    "    df['book_id'] = df['File_name'].factorize()[0]\n",
    "    book_id_df = df[['File_name', 'book_id']].drop_duplicates().sort_values('book_id')\n",
    "    book_to_id = dict(book_id_df.values)\n",
    "    id_to_book = dict(book_id_df[['book_id', 'File_name']].values)\n",
    "    \n",
    "    # feature engineering： TF-IDF\n",
    "#     tfidf = TfidfVectorizer(sublinear_tf=True, encoding='latin-1', ngram_range=(1, 2), stop_words='english')\n",
    "    from sklearn.feature_extraction.text import CountVectorizer\n",
    "    vectorizer = CountVectorizer()\n",
    "    features = vectorizer.fit_transform(df['Text'])\n",
    "#     print(features)"
   ]
  },
  {
   "cell_type": "code",
   "execution_count": 43,
   "metadata": {},
   "outputs": [
    {
     "data": {
      "text/plain": [
       "array([3, 0, 3, ..., 3, 0, 4], dtype=int64)"
      ]
     },
     "execution_count": 43,
     "metadata": {},
     "output_type": "execute_result"
    }
   ],
   "source": [
    "#EM clustering\n",
    "from sklearn.decomposition import PCA\n",
    "from sklearn.mixture import GaussianMixture\n",
    "sklearn_pca = PCA(n_components = 2)\n",
    "Y_sklearn = sklearn_pca.fit_transform(features.toarray())\n",
    "gmm = GaussianMixture(n_components=7).fit(Y_sklearn)\n",
    "labels = gmm.predict(Y_sklearn)\n",
    "labels"
   ]
  },
  {
   "cell_type": "code",
   "execution_count": 44,
   "metadata": {},
   "outputs": [],
   "source": [
    "def statistics(predict):\n",
    "    stat = []\n",
    "    new_id = []\n",
    "    for i in range(0, 1400, 200):\n",
    "        ratio = []\n",
    "        most_possible_id = 0\n",
    "        max_count = 0\n",
    "        for j in range(7):\n",
    "            # count = predict[i:i + 200].count(j)\n",
    "            counter = collections.Counter(predict[i:i + 200])\n",
    "            count = counter[j]\n",
    "            ratio.append(count / 200)\n",
    "            if count > max_count:\n",
    "                max_count = count\n",
    "                most_possible_id = j\n",
    "        stat.append(ratio)\n",
    "        new_id.append(most_possible_id)\n",
    "    return stat, new_id"
   ]
  },
  {
   "cell_type": "code",
   "execution_count": 45,
   "metadata": {},
   "outputs": [
    {
     "name": "stdout",
     "output_type": "stream",
     "text": [
      "                             0     1      2      3      4      5     6\n",
      "bible-kjv.txt            0.575  0.00  0.005  0.145  0.275  0.000  0.00\n",
      "blake-poems.txt          0.295  0.00  0.115  0.170  0.290  0.130  0.00\n",
      "burgess-busterbrown.txt  0.000  0.27  0.000  0.000  0.005  0.145  0.58\n",
      "carroll-alice.txt        0.000  0.00  0.750  0.000  0.070  0.180  0.00\n",
      "edgeworth-parents.txt    0.000  0.00  0.305  0.000  0.645  0.050  0.00\n",
      "milton-paradise.txt      0.335  0.00  0.000  0.045  0.620  0.000  0.00\n",
      "shakespeare-hamlet.txt   0.405  0.00  0.000  0.010  0.585  0.000  0.00\n",
      "[0, 0, 6, 2, 4, 4, 4]\n"
     ]
    },
    {
     "data": {
      "text/plain": [
       "0       0\n",
       "1       0\n",
       "2       0\n",
       "3       0\n",
       "4       0\n",
       "       ..\n",
       "1395    4\n",
       "1396    4\n",
       "1397    4\n",
       "1398    4\n",
       "1399    4\n",
       "Name: cluster_id, Length: 1400, dtype: int8"
      ]
     },
     "execution_count": 45,
     "metadata": {},
     "output_type": "execute_result"
    }
   ],
   "source": [
    "# obtain cluster id from predict result\n",
    "import collections\n",
    "em_predict = gmm.predict(Y_sklearn)\n",
    "stat, new_id = statistics(em_predict)\n",
    "predict_df = pd.DataFrame(stat, index = books, columns=['0', '1', '2', '3', '4', '5', '6'])\n",
    "print(predict_df)\n",
    "print(new_id)\n",
    "# create new book id\n",
    "ids = []\n",
    "for k in new_id:\n",
    "    arr = np.ones(200)\n",
    "    ids.append(arr * k)\n",
    "book_cluster_ids = np.array(ids,dtype='int8').flatten()\n",
    "# assign new book id to the df\n",
    "df['cluster_id'] = book_cluster_ids\n",
    "df.cluster_id"
   ]
  },
  {
   "cell_type": "code",
   "execution_count": 46,
   "metadata": {},
   "outputs": [
    {
     "data": {
      "image/png": "[encoded data removed]",
      "text/plain": [
       "<Figure size 720x360 with 1 Axes>"
      ]
     },
     "metadata": {
      "needs_background": "light"
     },
     "output_type": "display_data"
    }
   ],
   "source": [
    "from scipy.stats import multivariate_normal as mvn\n",
    "import matplotlib.pyplot as plt\n",
    "centers = np.zeros((7,2))\n",
    "for i in range(7):\n",
    "    density = mvn(cov=gmm.covariances_[i], mean=gmm.means_[i]).logpdf(Y_sklearn)\n",
    "    centers[i, :] = Y_sklearn[np.argmax(density)]\n",
    "plt.figure(figsize = (10,5))\n",
    "plt.scatter(Y_sklearn[:, 0], Y_sklearn[:, 1],c=labels ,s=50, cmap='viridis')\n",
    "plt.scatter(centers[:, 0], centers[:, 1],c='black', s=300, alpha=0.6);\n",
    "plt.show()"
   ]
  },
  {
   "cell_type": "code",
   "execution_count": 47,
   "metadata": {},
   "outputs": [
    {
     "name": "stdout",
     "output_type": "stream",
     "text": [
      "0.43509779783887303\n"
     ]
    }
   ],
   "source": [
    "#evaluation of EM\n",
    "from sklearn.metrics import cohen_kappa_score\n",
    "print(cohen_kappa_score(df.cluster_id,labels))"
   ]
  },
  {
   "cell_type": "code",
   "execution_count": 48,
   "metadata": {},
   "outputs": [
    {
     "name": "stdout",
     "output_type": "stream",
     "text": [
      "0.4836846231727981\n"
     ]
    },
    {
     "data": {
      "text/plain": [
       "-0.0006750202526588226"
      ]
     },
     "execution_count": 48,
     "metadata": {},
     "output_type": "execute_result"
    }
   ],
   "source": [
    "from sklearn.metrics import homogeneity_score\n",
    "from sklearn.metrics import silhouette_score\n",
    "print(homogeneity_score(df.cluster_id, gmm.predict(Y_sklearn)))\n",
    "silhouette_score(features, labels=gmm.predict(Y_sklearn))"
   ]
  }
 ],
 "metadata": {
  "kernelspec": {
   "display_name": "Python 3",
   "language": "python",
   "name": "python3"
  },
  "language_info": {
   "codemirror_mode": {
    "name": "ipython",
    "version": 3
   },
   "file_extension": ".py",
   "mimetype": "text/x-python",
   "name": "python",
   "nbconvert_exporter": "python",
   "pygments_lexer": "ipython3",
   "version": "3.9.5"
  },
  "orig_nbformat": 4,
  "vscode": {
   "interpreter": {
    "hash": "87d9b9d1e678527538d8142a74b02950316a4861c664997bcf14b93b840e5ec0"
   }
  }
 },
 "nbformat": 4,
 "nbformat_minor": 2
}

{
  "cells": [
    {
      "cell_type": "markdown",
      "metadata": {
        "colab_type": "text",
        "id": "view-in-github"
      },
      "source": [
        "<a href=\"https://colab.research.google.com/github/MaryDongsn/GNG-5125-clustering/blob/master/Clustering.ipynb\" target=\"_parent\"><img src=\"https://colab.research.google.com/assets/colab-badge.svg\" alt=\"Open In Colab\"/></a>"
      ]
    },
    {
      "cell_type": "code",
      "execution_count": 1,
      "metadata": {
        "colab": {
          "base_uri": "https://localhost:8080/",
          "height": 190
        },
        "colab_type": "code",
        "id": "Wpp-NLyUnO6_",
        "outputId": "8d85c1d3-1e1d-4ed7-d079-aa323d4df502",
        "scrolled": true
      },
      "outputs": [
        {
          "name": "stderr",
          "output_type": "stream",
          "text": [
            "d:\\softwares\\Python\\lib\\site-packages\\numpy\\_distributor_init.py:30: UserWarning: loaded more than 1 DLL from .libs:\n",
            "d:\\softwares\\Python\\lib\\site-packages\\numpy\\.libs\\libopenblas.EL2C6PLE4ZYW3ECEVIV3OXXGRN2NRFM2.gfortran-win_amd64.dll\n",
            "d:\\softwares\\Python\\lib\\site-packages\\numpy\\.libs\\libopenblas.FB5AE2TYXYH2IJRDKGDGQ3XBKLKTF43H.gfortran-win_amd64.dll\n",
            "d:\\softwares\\Python\\lib\\site-packages\\numpy\\.libs\\libopenblas.WCDJNK7YVMPZQ2ME2ZZHJJRJ3JIKNDB7.gfortran-win_amd64.dll\n",
            "d:\\softwares\\Python\\lib\\site-packages\\numpy\\.libs\\libopenblas64__v0.3.21-gcc_10_3_0.dll\n",
            "  warnings.warn(\"loaded more than 1 DLL from .libs:\"\n",
            "[nltk_data] Downloading package gutenberg to\n",
            "[nltk_data]     C:\\Users\\jaysh\\AppData\\Roaming\\nltk_data...\n",
            "[nltk_data]   Package gutenberg is already up-to-date!\n",
            "[nltk_data] Downloading package punkt to\n",
            "[nltk_data]     C:\\Users\\jaysh\\AppData\\Roaming\\nltk_data...\n",
            "[nltk_data]   Package punkt is already up-to-date!\n",
            "[nltk_data] Downloading package stopwords to\n",
            "[nltk_data]     C:\\Users\\jaysh\\AppData\\Roaming\\nltk_data...\n",
            "[nltk_data]   Package stopwords is already up-to-date!\n",
            "[nltk_data] Downloading package wordnet to\n",
            "[nltk_data]     C:\\Users\\jaysh\\AppData\\Roaming\\nltk_data...\n",
            "[nltk_data]   Package wordnet is already up-to-date!\n"
          ]
        },
        {
          "name": "stdout",
          "output_type": "stream",
          "text": [
            "['austen-emma.txt', 'austen-persuasion.txt', 'austen-sense.txt', 'bible-kjv.txt', 'blake-poems.txt', 'bryant-stories.txt', 'burgess-busterbrown.txt', 'carroll-alice.txt', 'chesterton-ball.txt', 'chesterton-brown.txt', 'chesterton-thursday.txt', 'edgeworth-parents.txt', 'melville-moby_dick.txt', 'milton-paradise.txt', 'shakespeare-caesar.txt', 'shakespeare-hamlet.txt', 'shakespeare-macbeth.txt', 'whitman-leaves.txt']\n"
          ]
        }
      ],
      "source": [
        "import nltk\n",
        "import random\n",
        "import numpy as np\n",
        "import pandas as pd\n",
        "import matplotlib.pyplot as plt\n",
        "\n",
        "from random import shuffle\n",
        "from string import punctuation\n",
        "\n",
        "from nltk.corpus import gutenberg\n",
        "from nltk.corpus import stopwords\n",
        "from nltk.stem.wordnet import WordNetLemmatizer\n",
        "\n",
        "from sklearn.feature_extraction.text import TfidfVectorizer\n",
        "from sklearn.feature_selection import chi2\n",
        "from sklearn.model_selection import train_test_split\n",
        "from sklearn.feature_extraction.text import CountVectorizer\n",
        "from sklearn.feature_extraction.text import TfidfTransformer\n",
        "from sklearn.naive_bayes import MultinomialNB\n",
        "\n",
        "\n",
        "from sklearn import svm\n",
        "from sklearn import preprocessing\n",
        "from sklearn.model_selection import cross_val_score\n",
        "from sklearn import neighbors\n",
        "from sklearn import tree\n",
        "from sklearn import neural_network\n",
        "\n",
        "nltk.download('gutenberg')\n",
        "nltk.download('punkt')\n",
        "nltk.download('stopwords')\n",
        "nltk.download('wordnet')\n",
        "# get the book list\n",
        "bookList = gutenberg.fileids()\n",
        "print(bookList)\n",
        "# books=bookList[0,3,4,5,6,7,8,11]\n",
        "books = np.array(bookList[3])\n",
        "# books = np.append(books, bookList[3])\n",
        "books = np.append(books, bookList[4])\n",
        "books = np.append(books, bookList[6])\n",
        "books = np.append(books, bookList[7])\n",
        "books = np.append(books, bookList[11])\n",
        "books = np.append(books, bookList[13])\n",
        "books = np.append(books, bookList[15])\n",
        "\n",
        "# print(books)\n",
        "# segment\n",
        "\n",
        "def sampling(number_samples, sample_size, book_name):\n",
        "    labeled_records = []\n",
        "    book = gutenberg.raw(book_name)\n",
        "    # print(book)\n",
        "    # tokenize the material of the book\n",
        "    raw_words = nltk.word_tokenize(book)\n",
        "    # print(raw_words)\n",
        "    # Prepare 200 documents for each book\n",
        "    headers = random.sample(range(0, len(raw_words)), number_samples)\n",
        "\n",
        "    for header in headers:\n",
        "        segment = raw_words[header:(header + sample_size + 1)]\n",
        "        labeled_records.append((segment, book_name))\n",
        "    return labeled_records\n",
        "\n",
        "\n",
        "def data_cleaning(sample_words):\n",
        "    # customize the punctuation list by adding extra string\n",
        "    extra_string = \"'-- ``'' \"\n",
        "    update_punctuation = punctuation + extra_string\n",
        "    # customize the stopwords list by adding extra stopwords\n",
        "    sw = stopwords.words('english')\n",
        "    extra_stopwords = \"n't\", \"'s\", \"ar't\", \"'d\", \"'ll\", \"i'll\"\n",
        "    sw.extend(extra_stopwords)\n",
        "    # Remove punctuation\n",
        "    remove_punct_words = [w for w in sample_words if w not in update_punctuation]\n",
        "    # Change all letters to lowercase\n",
        "    lowercase_words = [w.lower() for w in remove_punct_words]\n",
        "    # Strip \"_\" at the beginning or end of a word\n",
        "    strip_words = [w.strip('_') for w in lowercase_words]\n",
        "    # Remember digits/numbers (keeps only words)\n",
        "    remove_number_words = [w for w in strip_words if w.isalpha()]\n",
        "    # Remove stop words\n",
        "    final_words = [w for w in remove_number_words if w not in sw]\n",
        "    return final_words\n",
        "if __name__ == \"__main__\":\n",
        "    try_number_samples = 200\n",
        "    try_sample_size = 100\n",
        "    final_list = []\n",
        "    for book_name in books:\n",
        "        # print (book_name)\n",
        "        labeled_list = sampling(try_number_samples, try_sample_size, book_name)\n",
        "        cleaned_labeled_list = []\n",
        "\n",
        "        for samples in labeled_list:\n",
        "            book_name = samples[1]\n",
        "\n",
        "            cleaned_seg = data_cleaning(samples[0])\n",
        "            cleaned_labeled_seg = (cleaned_seg, book_name)\n",
        "            # print(cleaned_labeled_seg)\n",
        "            cleaned_labeled_list.append(cleaned_labeled_seg)\n",
        "        # print(cleaned_labeled_list)\n",
        "        final_list = final_list + cleaned_labeled_list\n",
        "    # shuffle the list\n",
        "#     shuffle(final_list)\n",
        "    #print(final_list)\n",
        "\n",
        "    docs = []\n",
        "    tags = []\n",
        "\n",
        "    # word lemmatization\n",
        "    lem = WordNetLemmatizer()\n",
        "    for labeled_doc in final_list:\n",
        "        docs.append(lem.lemmatize(' '.join(labeled_doc[0])))\n",
        "        tags.append(labeled_doc[1])\n",
        "#     print(docs)\n",
        "    # import data to dictionary\n",
        "    dic = {'Text': docs, 'File_name': tags}\n",
        "    # apply pandas data frame\n",
        "    df = pd.DataFrame(dic)\n",
        "#     print(df)\n",
        "    # df.columns = ['Text', 'File_name']\n",
        "    df['book_id'] = df['File_name'].factorize()[0]\n",
        "    book_id_df = df[['File_name', 'book_id']].drop_duplicates().sort_values('book_id')\n",
        "    book_to_id = dict(book_id_df.values)\n",
        "    id_to_book = dict(book_id_df[['book_id', 'File_name']].values)\n",
        "    \n",
        "    # feature engineering： TF-IDF\n",
        "#     tfidf = TfidfVectorizer(sublinear_tf=True, encoding='latin-1', ngram_range=(1, 2), stop_words='english')\n",
        "    tfidf = TfidfVectorizer(stop_words='english')\n",
        "    features = tfidf.fit_transform(df.Text)\n",
        "#     print(features)"
      ]
    },
    {
      "cell_type": "code",
      "execution_count": 2,
      "metadata": {
        "colab": {
          "base_uri": "https://localhost:8080/",
          "height": 527
        },
        "colab_type": "code",
        "id": "eCG7OSvej8uU",
        "outputId": "784910b1-e0ae-4b8f-fdc0-04174194309b"
      },
      "outputs": [],
      "source": [
        "# # print(round(len(lemmatize_words)/counter))  # if counter = 50, for each sample/book, length is different\n",
        "# # sample_length = round(len(df.Text.values)) / counter) - 10  # length of each sample, -10 to avoid overlapping\n",
        "# # start = 100\n",
        "# # stop = len(df.Text.values)\n",
        "# # slice_index = sorted(random.sample(range(start, stop + 1), counter))\n",
        "# # for j in range(counter):\n",
        "# #     a = slice_index[j]\n",
        "# #     xtrainset.append(lemmatize_words[a:a + sample_length])\n",
        "# #     ytrainset.append(raw[i][1])\n",
        "\n",
        "# from urllib import request\n",
        "# import pandas as pd\n",
        "# import random\n",
        "# import re\n",
        "# import numpy as np\n",
        "# from nltk.corpus import stopwords\n",
        "# from nltk.tokenize import word_tokenize\n",
        "# from nltk.stem.porter import PorterStemmer\n",
        "# from nltk.stem import WordNetLemmatizer\n",
        "# from gensim.models.coherencemodel import CoherenceModel\n",
        "# from gensim.models.ldamodel import LdaModel\n",
        "# from gensim.corpora.dictionary import Dictionary\n",
        "# from pprint import pprint\n",
        "\n",
        "# # print(docs)\n",
        "# #print(final_list)\n",
        "# # print(df.Text.values)\n",
        "# new_final_list=[]\n",
        "# for tuple_list in final_list:\n",
        "#   new_list=tuple_list[0]\n",
        "#   new_final_list.append(new_list) \n",
        "# #print (new_final_list)\n",
        "\n",
        "# id2word = Dictionary(new_final_list)\n",
        "\n",
        "# corpus =[]\n",
        "# corpus = [id2word.doc2bow(text) for text in new_final_list]\n",
        "# lda_model = LdaModel(corpus=corpus, num_topics=7, id2word=id2word, random_state=100, update_every=1, chunksize=1000,\n",
        "#                     passes=10, alpha='auto', per_word_topics=True)\n",
        "\n",
        "# pprint(lda_model.print_topics())\n",
        "# print('\\nPerplexity: ', lda_model.log_perplexity(corpus))\n",
        "# coherence_model_lda1 = CoherenceModel(model=lda_model, texts=new_final_list, dictionary=id2word, coherence='c_v')\n",
        "# coherence_lda1 = coherence_model_lda1.get_coherence()\n",
        "# coherence_model_lda2 = CoherenceModel(model=lda_model, texts=new_final_list, dictionary=id2word, coherence='u_mass')\n",
        "# coherence_lda2 = coherence_model_lda2.get_coherence()\n",
        "# print('\\nC_V Score: ', coherence_lda1)\n",
        "# print('\\nU_Mass Score: ', coherence_lda2)"
      ]
    },
    {
      "cell_type": "code",
      "execution_count": 3,
      "metadata": {
        "colab": {},
        "colab_type": "code",
        "id": "oId0hc32nO7K"
      },
      "outputs": [],
      "source": [
        "# dimension reducing\n",
        "from sklearn.decomposition import PCA\n",
        "from sklearn.mixture import GaussianMixture\n",
        "sklearn_pca = PCA(n_components = 2)\n",
        "Y_sklearn = sklearn_pca.fit_transform(features.toarray())"
      ]
    },
    {
      "cell_type": "code",
      "execution_count": 4,
      "metadata": {
        "colab": {
          "base_uri": "https://localhost:8080/",
          "height": 295
        },
        "colab_type": "code",
        "id": "2mAmBIGQnO7N",
        "outputId": "44800c5e-33cd-4529-a862-8a3b92e8a1ad"
      },
      "outputs": [
        {
          "data": {
            "image/png": "[encoded data removed]",
            "text/plain": [
              "<Figure size 432x288 with 1 Axes>"
            ]
          },
          "metadata": {
            "needs_background": "light"
          },
          "output_type": "display_data"
        }
      ],
      "source": [
        "# K-Means Clustering\n",
        "from sklearn.cluster import KMeans\n",
        "# Using the elbow method to find the optimal number of clusters (7)\n",
        "wcss = []\n",
        "for i in range(1, 11):\n",
        "    kmeans = KMeans(n_clusters = i, init = 'k-means++', random_state = 42)\n",
        "    kmeans.fit(Y_sklearn)\n",
        "    wcss.append(kmeans.inertia_)\n",
        "plt.plot(range(1, 11), wcss)\n",
        "plt.title('The Elbow Method')\n",
        "plt.xlabel('Number of clusters')\n",
        "plt.ylabel('WCSS')\n",
        "plt.show()"
      ]
    },
    {
      "cell_type": "code",
      "execution_count": 5,
      "metadata": {
        "colab": {
          "base_uri": "https://localhost:8080/",
          "height": 68
        },
        "colab_type": "code",
        "id": "RdHWul8gnO7R",
        "outputId": "190130e6-4750-44ff-99ff-5aea5dcc833e"
      },
      "outputs": [
        {
          "data": {
            "text/html": [
              "<style>#sk-container-id-1 {color: black;background-color: white;}#sk-container-id-1 pre{padding: 0;}#sk-container-id-1 div.sk-toggleable {background-color: white;}#sk-container-id-1 label.sk-toggleable__label {cursor: pointer;display: block;width: 100%;margin-bottom: 0;padding: 0.3em;box-sizing: border-box;text-align: center;}#sk-container-id-1 label.sk-toggleable__label-arrow:before {content: \"▸\";float: left;margin-right: 0.25em;color: #696969;}#sk-container-id-1 label.sk-toggleable__label-arrow:hover:before {color: black;}#sk-container-id-1 div.sk-estimator:hover label.sk-toggleable__label-arrow:before {color: black;}#sk-container-id-1 div.sk-toggleable__content {max-height: 0;max-width: 0;overflow: hidden;text-align: left;background-color: #f0f8ff;}#sk-container-id-1 div.sk-toggleable__content pre {margin: 0.2em;color: black;border-radius: 0.25em;background-color: #f0f8ff;}#sk-container-id-1 input.sk-toggleable__control:checked~div.sk-toggleable__content {max-height: 200px;max-width: 100%;overflow: auto;}#sk-container-id-1 input.sk-toggleable__control:checked~label.sk-toggleable__label-arrow:before {content: \"▾\";}#sk-container-id-1 div.sk-estimator input.sk-toggleable__control:checked~label.sk-toggleable__label {background-color: #d4ebff;}#sk-container-id-1 div.sk-label input.sk-toggleable__control:checked~label.sk-toggleable__label {background-color: #d4ebff;}#sk-container-id-1 input.sk-hidden--visually {border: 0;clip: rect(1px 1px 1px 1px);clip: rect(1px, 1px, 1px, 1px);height: 1px;margin: -1px;overflow: hidden;padding: 0;position: absolute;width: 1px;}#sk-container-id-1 div.sk-estimator {font-family: monospace;background-color: #f0f8ff;border: 1px dotted black;border-radius: 0.25em;box-sizing: border-box;margin-bottom: 0.5em;}#sk-container-id-1 div.sk-estimator:hover {background-color: #d4ebff;}#sk-container-id-1 div.sk-parallel-item::after {content: \"\";width: 100%;border-bottom: 1px solid gray;flex-grow: 1;}#sk-container-id-1 div.sk-label:hover label.sk-toggleable__label {background-color: #d4ebff;}#sk-container-id-1 div.sk-serial::before {content: \"\";position: absolute;border-left: 1px solid gray;box-sizing: border-box;top: 0;bottom: 0;left: 50%;z-index: 0;}#sk-container-id-1 div.sk-serial {display: flex;flex-direction: column;align-items: center;background-color: white;padding-right: 0.2em;padding-left: 0.2em;position: relative;}#sk-container-id-1 div.sk-item {position: relative;z-index: 1;}#sk-container-id-1 div.sk-parallel {display: flex;align-items: stretch;justify-content: center;background-color: white;position: relative;}#sk-container-id-1 div.sk-item::before, #sk-container-id-1 div.sk-parallel-item::before {content: \"\";position: absolute;border-left: 1px solid gray;box-sizing: border-box;top: 0;bottom: 0;left: 50%;z-index: -1;}#sk-container-id-1 div.sk-parallel-item {display: flex;flex-direction: column;z-index: 1;position: relative;background-color: white;}#sk-container-id-1 div.sk-parallel-item:first-child::after {align-self: flex-end;width: 50%;}#sk-container-id-1 div.sk-parallel-item:last-child::after {align-self: flex-start;width: 50%;}#sk-container-id-1 div.sk-parallel-item:only-child::after {width: 0;}#sk-container-id-1 div.sk-dashed-wrapped {border: 1px dashed gray;margin: 0 0.4em 0.5em 0.4em;box-sizing: border-box;padding-bottom: 0.4em;background-color: white;}#sk-container-id-1 div.sk-label label {font-family: monospace;font-weight: bold;display: inline-block;line-height: 1.2em;}#sk-container-id-1 div.sk-label-container {text-align: center;}#sk-container-id-1 div.sk-container {/* jupyter's `normalize.less` sets `[hidden] { display: none; }` but bootstrap.min.css set `[hidden] { display: none !important; }` so we also need the `!important` here to be able to override the default hidden behavior on the sphinx rendered scikit-learn.org. See: https://github.com/scikit-learn/scikit-learn/issues/21755 */display: inline-block !important;position: relative;}#sk-container-id-1 div.sk-text-repr-fallback {display: none;}</style><div id=\"sk-container-id-1\" class=\"sk-top-container\"><div class=\"sk-text-repr-fallback\"><pre>KMeans(max_iter=100, n_clusters=7, n_init=1)</pre><b>In a Jupyter environment, please rerun this cell to show the HTML representation or trust the notebook. <br />On GitHub, the HTML representation is unable to render, please try loading this page with nbviewer.org.</b></div><div class=\"sk-container\" hidden><div class=\"sk-item\"><div class=\"sk-estimator sk-toggleable\"><input class=\"sk-toggleable__control sk-hidden--visually\" id=\"sk-estimator-id-1\" type=\"checkbox\" checked><label for=\"sk-estimator-id-1\" class=\"sk-toggleable__label sk-toggleable__label-arrow\">KMeans</label><div class=\"sk-toggleable__content\"><pre>KMeans(max_iter=100, n_clusters=7, n_init=1)</pre></div></div></div></div></div>"
            ],
            "text/plain": [
              "KMeans(max_iter=100, n_clusters=7, n_init=1)"
            ]
          },
          "execution_count": 5,
          "metadata": {},
          "output_type": "execute_result"
        }
      ],
      "source": [
        "#KMeans clustering\n",
        "true_k = 7\n",
        "model = KMeans(n_clusters=true_k, init='k-means++', max_iter=100, n_init=1)\n",
        "model.fit(features)"
      ]
    },
    {
      "cell_type": "code",
      "execution_count": 6,
      "metadata": {
        "colab": {
          "base_uri": "https://localhost:8080/",
          "height": 34
        },
        "colab_type": "code",
        "id": "Pg8OxGhonO7X",
        "outputId": "d21a52fc-df53-47b3-d022-f0431563e002"
      },
      "outputs": [
        {
          "data": {
            "text/plain": [
              "array([4, 4, 3, ..., 4, 4, 4])"
            ]
          },
          "execution_count": 6,
          "metadata": {},
          "output_type": "execute_result"
        }
      ],
      "source": [
        "model.labels_\n",
        "# array([4, 0, 0, ..., 2, 4, 3])"
      ]
    },
    {
      "cell_type": "code",
      "execution_count": 7,
      "metadata": {
        "colab": {
          "base_uri": "https://localhost:8080/",
          "height": 34
        },
        "colab_type": "code",
        "id": "xTljaADpnO7c",
        "outputId": "5683688a-1c86-404c-cc59-5aad41f68700"
      },
      "outputs": [
        {
          "name": "stdout",
          "output_type": "stream",
          "text": [
            "[4 4 3 ... 4 4 4]\n"
          ]
        }
      ],
      "source": [
        "kmeans_predict = model.predict(features)\n",
        "print (kmeans_predict)"
      ]
    },
    {
      "cell_type": "code",
      "execution_count": 8,
      "metadata": {
        "colab": {
          "base_uri": "https://localhost:8080/",
          "height": 282
        },
        "colab_type": "code",
        "id": "wrCIgsRLnO7g",
        "outputId": "604d87d8-5f57-4b6d-b496-b68851f6067e"
      },
      "outputs": [
        {
          "data": {
            "text/plain": [
              "<matplotlib.collections.PathCollection at 0x299c6e69970>"
            ]
          },
          "execution_count": 8,
          "metadata": {},
          "output_type": "execute_result"
        },
        {
          "data": {
            "image/png": "[encoded data removed]",
            "text/plain": [
              "<Figure size 432x288 with 1 Axes>"
            ]
          },
          "metadata": {
            "needs_background": "light"
          },
          "output_type": "display_data"
        }
      ],
      "source": [
        "# visualization of KMeans\n",
        "reduced_cluster_centers = sklearn_pca.transform(model.cluster_centers_)\n",
        "plt.scatter(Y_sklearn[:,0], Y_sklearn[:,1], c=model.predict(features))\n",
        "plt.scatter(reduced_cluster_centers[:, 0], reduced_cluster_centers[:,1], marker='x', s=150, c='b')"
      ]
    },
    {
      "cell_type": "code",
      "execution_count": 9,
      "metadata": {
        "colab": {},
        "colab_type": "code",
        "id": "Q-FOlMFknO7k"
      },
      "outputs": [],
      "source": [
        "# count the ratio of cluster id in each cluster\n",
        "# return stat - display the predicted clusters' id distribution\n",
        "# return new_id - the clusters' id array following the original doc order\n",
        "def statistics(predict):\n",
        "    stat = []\n",
        "    new_id = []\n",
        "    for i in range(0, 1400, 200):\n",
        "        ratio = []\n",
        "        most_possible_id = 0\n",
        "        max_count = 0\n",
        "        for j in range(7):\n",
        "            # count = predict[i:i + 200].count(j)\n",
        "            counter = collections.Counter(predict[i:i + 200])\n",
        "            count = counter[j]\n",
        "            ratio.append(count / 200)\n",
        "            if count > max_count:\n",
        "                max_count = count\n",
        "                most_possible_id = j\n",
        "        stat.append(ratio)\n",
        "        new_id.append(most_possible_id)\n",
        "    return stat, new_id"
      ]
    },
    {
      "cell_type": "code",
      "execution_count": 10,
      "metadata": {
        "colab": {},
        "colab_type": "code",
        "id": "hIhZXlEOnO7o"
      },
      "outputs": [],
      "source": [
        "# obtain cluster id from predict result\n",
        "import collections\n",
        "stat, new_id = statistics(kmeans_predict)"
      ]
    },
    {
      "cell_type": "code",
      "execution_count": 11,
      "metadata": {
        "colab": {
          "base_uri": "https://localhost:8080/",
          "height": 170
        },
        "colab_type": "code",
        "id": "lIfp34TAnO7r",
        "outputId": "3b8fb3ab-459d-4bd1-d74b-ad270fcc661b"
      },
      "outputs": [
        {
          "name": "stdout",
          "output_type": "stream",
          "text": [
            "                             0      1      2      3     4      5     6\n",
            "bible-kjv.txt            0.000  0.000  0.000  0.150  0.62  0.230  0.00\n",
            "blake-poems.txt          0.000  0.000  0.530  0.330  0.00  0.140  0.00\n",
            "burgess-busterbrown.txt  0.475  0.405  0.015  0.000  0.00  0.095  0.01\n",
            "carroll-alice.txt        0.000  0.000  0.000  0.000  0.00  0.100  0.90\n",
            "edgeworth-parents.txt    0.000  0.000  0.010  0.000  0.00  0.910  0.08\n",
            "milton-paradise.txt      0.000  0.000  0.010  0.185  0.02  0.785  0.00\n",
            "shakespeare-hamlet.txt   0.000  0.000  0.010  0.065  0.46  0.465  0.00\n"
          ]
        },
        {
          "data": {
            "text/plain": [
              "[4, 2, 0, 6, 5, 5, 5]"
            ]
          },
          "execution_count": 11,
          "metadata": {},
          "output_type": "execute_result"
        }
      ],
      "source": [
        "predict_df = pd.DataFrame(stat, index = books, columns=['0', '1', '2', '3', '4', '5', '6'])\n",
        "print(predict_df)\n",
        "new_id"
      ]
    },
    {
      "cell_type": "code",
      "execution_count": 12,
      "metadata": {
        "colab": {
          "base_uri": "https://localhost:8080/",
          "height": 221
        },
        "colab_type": "code",
        "id": "Gkmxq9IOnO7u",
        "outputId": "ecda87b7-0b57-4975-92e4-17ce8bc3f585"
      },
      "outputs": [
        {
          "data": {
            "text/plain": [
              "0       4\n",
              "1       4\n",
              "2       4\n",
              "3       4\n",
              "4       4\n",
              "       ..\n",
              "1395    5\n",
              "1396    5\n",
              "1397    5\n",
              "1398    5\n",
              "1399    5\n",
              "Name: cluster_id, Length: 1400, dtype: int8"
            ]
          },
          "execution_count": 12,
          "metadata": {},
          "output_type": "execute_result"
        }
      ],
      "source": [
        "# create new book id\n",
        "ids = []\n",
        "for k in new_id:\n",
        "    arr = np.ones(200)\n",
        "    ids.append(arr * k)\n",
        "book_cluster_ids = np.array(ids,dtype='int8').flatten()\n",
        "# assign new book id to the df\n",
        "df['cluster_id'] = book_cluster_ids\n",
        "df.cluster_id\n"
      ]
    },
    {
      "cell_type": "code",
      "execution_count": 13,
      "metadata": {
        "colab": {
          "base_uri": "https://localhost:8080/",
          "height": 772
        },
        "colab_type": "code",
        "id": "gH0ky9gbQsR2",
        "outputId": "a6230111-e4d0-42aa-dd6c-772a8826677e"
      },
      "outputs": [
        {
          "data": {
            "image/png": "[encoded data removed]",
            "text/plain": [
              "<Figure size 720x720 with 2 Axes>"
            ]
          },
          "metadata": {
            "needs_background": "light"
          },
          "output_type": "display_data"
        }
      ],
      "source": [
        "from sklearn.metrics import confusion_matrix\n",
        "import seaborn as sns\n",
        "conf_mat = confusion_matrix(df.cluster_id, kmeans_predict)\n",
        "fig, ax = plt.subplots(figsize=(10,10))\n",
        "sns.heatmap(conf_mat, annot=True, fmt='d',\n",
        "            xticklabels=book_id_df.File_name.values, yticklabels=book_id_df.File_name.values)\n",
        "plt.ylabel('Actual')\n",
        "plt.xlabel('Predicted')\n",
        "plt.show()"
      ]
    },
    {
      "cell_type": "code",
      "execution_count": 14,
      "metadata": {
        "colab": {
          "base_uri": "https://localhost:8080/",
          "height": 34
        },
        "colab_type": "code",
        "id": "yAXQKfqjnO7y",
        "outputId": "76c48fab-32ed-4382-8fea-91d5193f53aa"
      },
      "outputs": [
        {
          "name": "stdout",
          "output_type": "stream",
          "text": [
            "0.5699880589093804\n"
          ]
        }
      ],
      "source": [
        "#evaluation of KMeans\n",
        "from sklearn.metrics import cohen_kappa_score\n",
        "print(cohen_kappa_score(df.cluster_id, kmeans_predict))"
      ]
    },
    {
      "cell_type": "code",
      "execution_count": 15,
      "metadata": {
        "colab": {
          "base_uri": "https://localhost:8080/",
          "height": 51
        },
        "colab_type": "code",
        "id": "-SzodfStnO70",
        "outputId": "8a58a241-6473-4e52-d7af-118fcfcdf059"
      },
      "outputs": [
        {
          "name": "stdout",
          "output_type": "stream",
          "text": [
            "0.5058933938618742\n"
          ]
        },
        {
          "data": {
            "text/plain": [
              "0.01226665469353707"
            ]
          },
          "execution_count": 15,
          "metadata": {},
          "output_type": "execute_result"
        }
      ],
      "source": [
        "from sklearn.metrics import homogeneity_score\n",
        "from sklearn.metrics import silhouette_score\n",
        "print(homogeneity_score(df.book_id, kmeans_predict))\n",
        "silhouette_score(features, labels=kmeans_predict)"
      ]
    },
    {
      "cell_type": "code",
      "execution_count": 16,
      "metadata": {
        "colab": {
          "base_uri": "https://localhost:8080/",
          "height": 284
        },
        "colab_type": "code",
        "id": "j2-7GTCAnO74",
        "outputId": "3d4d4f0d-5697-49db-877d-0fad002f9879"
      },
      "outputs": [
        {
          "data": {
            "image/png": "[encoded data removed]",
            "text/plain": [
              "<Figure size 432x288 with 1 Axes>"
            ]
          },
          "metadata": {
            "needs_background": "light"
          },
          "output_type": "display_data"
        }
      ],
      "source": [
        "# Using the dendrogram to find the optimal number of clusters (7)\n",
        "import scipy.cluster.hierarchy as sch\n",
        "dendrogram = sch.dendrogram(sch.linkage(features.toarray(), method = 'ward'))\n",
        "plt.title('Dendrogram')\n",
        "plt.show()"
      ]
    },
    {
      "cell_type": "code",
      "execution_count": 17,
      "metadata": {
        "colab": {
          "base_uri": "https://localhost:8080/",
          "height": 34
        },
        "colab_type": "code",
        "id": "kau9SJqXnO76",
        "outputId": "4b7ab40d-8fcd-416a-ee3d-ed9ec976f65e"
      },
      "outputs": [
        {
          "data": {
            "text/plain": [
              "array([6, 0, 6, ..., 0, 0, 6], dtype=int64)"
            ]
          },
          "execution_count": 17,
          "metadata": {},
          "output_type": "execute_result"
        }
      ],
      "source": [
        "#EM clustering\n",
        "gmm = GaussianMixture(n_components=7).fit(Y_sklearn)\n",
        "labels = gmm.predict(Y_sklearn)\n",
        "labels"
      ]
    },
    {
      "cell_type": "code",
      "execution_count": 18,
      "metadata": {
        "colab": {
          "base_uri": "https://localhost:8080/",
          "height": 320
        },
        "colab_type": "code",
        "id": "_hO3yFYsnO7-",
        "outputId": "d7f208bc-6571-4023-86d5-5494d891527b"
      },
      "outputs": [
        {
          "data": {
            "image/png": "[encoded data removed]",
            "text/plain": [
              "<Figure size 720x360 with 1 Axes>"
            ]
          },
          "metadata": {
            "needs_background": "light"
          },
          "output_type": "display_data"
        }
      ],
      "source": [
        "from scipy.stats import multivariate_normal as mvn\n",
        "centers = np.zeros((7,2))\n",
        "for i in range(7):\n",
        "    density = mvn(cov=gmm.covariances_[i], mean=gmm.means_[i]).logpdf(Y_sklearn)\n",
        "    centers[i, :] = Y_sklearn[np.argmax(density)]\n",
        "plt.figure(figsize = (10,5))\n",
        "plt.scatter(Y_sklearn[:, 0], Y_sklearn[:, 1],c=labels ,s=50, cmap='viridis')\n",
        "plt.scatter(centers[:, 0], centers[:, 1],c='black', s=300, alpha=0.6);\n",
        "plt.show()"
      ]
    },
    {
      "cell_type": "code",
      "execution_count": 19,
      "metadata": {
        "colab": {
          "base_uri": "https://localhost:8080/",
          "height": 374
        },
        "colab_type": "code",
        "id": "I74FnrgqnO8B",
        "outputId": "04c107b5-19f6-4b07-fb05-de6e5e9fc1e6"
      },
      "outputs": [
        {
          "name": "stdout",
          "output_type": "stream",
          "text": [
            "                             0      1     2     3      4      5      6\n",
            "bible-kjv.txt            0.345  0.000  0.00  0.00  0.000  0.080  0.575\n",
            "blake-poems.txt          0.390  0.235  0.00  0.00  0.015  0.145  0.215\n",
            "burgess-busterbrown.txt  0.005  0.030  0.36  0.00  0.605  0.000  0.000\n",
            "carroll-alice.txt        0.030  0.410  0.00  0.55  0.010  0.000  0.000\n",
            "edgeworth-parents.txt    0.525  0.465  0.00  0.01  0.000  0.000  0.000\n",
            "milton-paradise.txt      0.700  0.015  0.00  0.00  0.000  0.045  0.240\n",
            "shakespeare-hamlet.txt   0.700  0.015  0.00  0.00  0.000  0.000  0.285\n",
            "[6, 0, 4, 3, 0, 0, 0]\n"
          ]
        },
        {
          "data": {
            "text/plain": [
              "0       6\n",
              "1       6\n",
              "2       6\n",
              "3       6\n",
              "4       6\n",
              "       ..\n",
              "1395    0\n",
              "1396    0\n",
              "1397    0\n",
              "1398    0\n",
              "1399    0\n",
              "Name: cluster_id, Length: 1400, dtype: int8"
            ]
          },
          "execution_count": 19,
          "metadata": {},
          "output_type": "execute_result"
        }
      ],
      "source": [
        "# obtain cluster id from predict result\n",
        "em_predict = gmm.predict(Y_sklearn)\n",
        "stat, new_id = statistics(em_predict)\n",
        "predict_df = pd.DataFrame(stat, index = books, columns=['0', '1', '2', '3', '4', '5', '6'])\n",
        "print(predict_df)\n",
        "print(new_id)\n",
        "# create new book id\n",
        "ids = []\n",
        "for k in new_id:\n",
        "    arr = np.ones(200)\n",
        "    ids.append(arr * k)\n",
        "book_cluster_ids = np.array(ids,dtype='int8').flatten()\n",
        "# assign new book id to the df\n",
        "df['cluster_id'] = book_cluster_ids\n",
        "df.cluster_id"
      ]
    },
    {
      "cell_type": "code",
      "execution_count": 20,
      "metadata": {
        "colab": {
          "base_uri": "https://localhost:8080/",
          "height": 34
        },
        "colab_type": "code",
        "id": "twytllZWnO8D",
        "outputId": "985ba475-0eb4-4c67-8df4-5cde34c7ac9a"
      },
      "outputs": [
        {
          "name": "stdout",
          "output_type": "stream",
          "text": [
            "0.4208315833683326\n"
          ]
        }
      ],
      "source": [
        "#evaluation of EM\n",
        "from sklearn.metrics import cohen_kappa_score\n",
        "print(cohen_kappa_score(df.cluster_id, em_predict))"
      ]
    },
    {
      "cell_type": "code",
      "execution_count": 21,
      "metadata": {
        "colab": {
          "base_uri": "https://localhost:8080/",
          "height": 51
        },
        "colab_type": "code",
        "id": "VGVqqCkKnO8J",
        "outputId": "a9e73d0f-f38e-4be3-d37f-99af78deca82"
      },
      "outputs": [
        {
          "name": "stdout",
          "output_type": "stream",
          "text": [
            "0.5853300146491485\n"
          ]
        },
        {
          "data": {
            "text/plain": [
              "0.004676527372941823"
            ]
          },
          "execution_count": 21,
          "metadata": {},
          "output_type": "execute_result"
        }
      ],
      "source": [
        "from sklearn.metrics import homogeneity_score\n",
        "from sklearn.metrics import silhouette_score\n",
        "print(homogeneity_score(df.cluster_id, gmm.predict(Y_sklearn)))\n",
        "silhouette_score(features, labels=gmm.predict(Y_sklearn))"
      ]
    },
    {
      "cell_type": "code",
      "execution_count": 22,
      "metadata": {
        "colab": {
          "base_uri": "https://localhost:8080/",
          "height": 68
        },
        "colab_type": "code",
        "id": "NC0GXpwsnO8L",
        "outputId": "0896072f-308a-44a6-8c39-31a6607e12c4"
      },
      "outputs": [
        {
          "name": "stdout",
          "output_type": "stream",
          "text": [
            "1400\n",
            "[0 1 0 ... 5 5 5]\n"
          ]
        },
        {
          "data": {
            "text/plain": [
              "7"
            ]
          },
          "execution_count": 22,
          "metadata": {},
          "output_type": "execute_result"
        }
      ],
      "source": [
        "# Hierarchy clustering\n",
        "# Training the Hierarchical Clustering model on the dataset\n",
        "from sklearn.cluster import AgglomerativeClustering\n",
        "hc = AgglomerativeClustering(n_clusters = 7, affinity = 'euclidean', linkage = 'ward')\n",
        "y_hc = hc.fit_predict(features.toarray())\n",
        "\n",
        "print(len(y_hc))\n",
        "print(y_hc)\n",
        "hc.n_clusters_"
      ]
    },
    {
      "cell_type": "code",
      "execution_count": 23,
      "metadata": {
        "colab": {
          "base_uri": "https://localhost:8080/",
          "height": 265
        },
        "colab_type": "code",
        "id": "vUDSHp-vnO8O",
        "outputId": "63c54387-23eb-4da8-97bd-e05d84f12fc7"
      },
      "outputs": [
        {
          "data": {
            "image/png": "[encoded data removed]",
            "text/plain": [
              "<Figure size 432x288 with 1 Axes>"
            ]
          },
          "metadata": {
            "needs_background": "light"
          },
          "output_type": "display_data"
        }
      ],
      "source": [
        "# Visualising the clusters\n",
        "plt.scatter(Y_sklearn[y_hc == 0, 0], Y_sklearn[y_hc == 0, 1], s = 50, c = 'red', label = 'Cluster 1')\n",
        "plt.scatter(Y_sklearn[y_hc == 1, 0], Y_sklearn[y_hc == 1, 1], s = 50, c = 'blue', label = 'Cluster 2')\n",
        "plt.scatter(Y_sklearn[y_hc == 2, 0], Y_sklearn[y_hc == 2, 1], s = 50, c = 'green', label = 'Cluster 3')\n",
        "plt.scatter(Y_sklearn[y_hc == 3, 0], Y_sklearn[y_hc == 3, 1], s = 50, c = 'cyan', label = 'Cluster 4')\n",
        "plt.scatter(Y_sklearn[y_hc == 4, 0], Y_sklearn[y_hc == 4, 1], s = 50, c = 'magenta', label = 'Cluster 5')\n",
        "plt.scatter(Y_sklearn[y_hc == 5, 0], Y_sklearn[y_hc == 5, 1], s = 50, c = 'crimson', label = 'Cluster 6')\n",
        "plt.scatter(Y_sklearn[y_hc == 6, 0], Y_sklearn[y_hc == 6, 1], s = 50, c = 'burlywood', label = 'Cluster 7')\n",
        "plt.show()"
      ]
    },
    {
      "cell_type": "code",
      "execution_count": 24,
      "metadata": {
        "colab": {
          "base_uri": "https://localhost:8080/",
          "height": 374
        },
        "colab_type": "code",
        "id": "DIqttDcKnO8S",
        "outputId": "dade6f53-57bc-4480-e6ee-8d10f2465a36"
      },
      "outputs": [
        {
          "name": "stdout",
          "output_type": "stream",
          "text": [
            "                             0      1     2      3     4      5      6\n",
            "bible-kjv.txt            0.720  0.265  0.00  0.000  0.00  0.015  0.000\n",
            "blake-poems.txt          0.125  0.825  0.00  0.000  0.00  0.005  0.045\n",
            "burgess-busterbrown.txt  0.000  0.060  0.32  0.000  0.62  0.000  0.000\n",
            "carroll-alice.txt        0.000  0.400  0.00  0.595  0.00  0.005  0.000\n",
            "edgeworth-parents.txt    0.000  1.000  0.00  0.000  0.00  0.000  0.000\n",
            "milton-paradise.txt      0.130  0.860  0.00  0.000  0.00  0.010  0.000\n",
            "shakespeare-hamlet.txt   0.015  0.140  0.00  0.000  0.00  0.845  0.000\n",
            "[0, 1, 4, 3, 1, 1, 5]\n"
          ]
        },
        {
          "data": {
            "text/plain": [
              "0       0\n",
              "1       0\n",
              "2       0\n",
              "3       0\n",
              "4       0\n",
              "       ..\n",
              "1395    5\n",
              "1396    5\n",
              "1397    5\n",
              "1398    5\n",
              "1399    5\n",
              "Name: cluster_id, Length: 1400, dtype: int8"
            ]
          },
          "execution_count": 24,
          "metadata": {},
          "output_type": "execute_result"
        }
      ],
      "source": [
        "# obtain cluster id from predict result\n",
        "hc_predict = y_hc\n",
        "stat, new_id = statistics(hc_predict)\n",
        "predict_df = pd.DataFrame(stat, index = books, columns=['0', '1', '2', '3', '4', '5', '6'])\n",
        "print(predict_df)\n",
        "print(new_id)\n",
        "# create new book id\n",
        "ids = []\n",
        "for k in new_id:\n",
        "    arr = np.ones(200)\n",
        "    ids.append(arr * k)\n",
        "book_cluster_ids = np.array(ids,dtype='int8').flatten()\n",
        "# assign new book id to the df\n",
        "df['cluster_id'] = book_cluster_ids\n",
        "df.cluster_id"
      ]
    },
    {
      "cell_type": "code",
      "execution_count": 25,
      "metadata": {
        "colab": {
          "base_uri": "https://localhost:8080/",
          "height": 51
        },
        "colab_type": "code",
        "id": "ec_8xSyOnO8U",
        "outputId": "d4dd21c9-2d51-4711-8659-19b6d608b10b"
      },
      "outputs": [
        {
          "name": "stdout",
          "output_type": "stream",
          "text": [
            "0.48939351514447565\n"
          ]
        },
        {
          "data": {
            "text/plain": [
              "0.010876826644726617"
            ]
          },
          "execution_count": 25,
          "metadata": {},
          "output_type": "execute_result"
        }
      ],
      "source": [
        "print(homogeneity_score(df.File_name, hc.labels_))\n",
        "silhouette_score(features, labels=hc.labels_)"
      ]
    },
    {
      "cell_type": "code",
      "execution_count": null,
      "metadata": {
        "colab": {},
        "colab_type": "code",
        "id": "-4_Fie4lnO8X"
      },
      "outputs": [],
      "source": []
    }
  ],
  "metadata": {
    "colab": {
      "include_colab_link": true,
      "name": "Clustering.ipynb",
      "provenance": []
    },
    "kernelspec": {
      "display_name": "Python 3",
      "language": "python",
      "name": "python3"
    },
    "language_info": {
      "codemirror_mode": {
        "name": "ipython",
        "version": 3
      },
      "file_extension": ".py",
      "mimetype": "text/x-python",
      "name": "python",
      "nbconvert_exporter": "python",
      "pygments_lexer": "ipython3",
      "version": "3.9.5"
    },
    "vscode": {
      "interpreter": {
        "hash": "87d9b9d1e678527538d8142a74b02950316a4861c664997bcf14b93b840e5ec0"
      }
    }
  },
  "nbformat": 4,
  "nbformat_minor": 0
}
